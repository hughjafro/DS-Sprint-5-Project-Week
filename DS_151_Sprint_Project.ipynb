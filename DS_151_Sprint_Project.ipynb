{
  "nbformat": 4,
  "nbformat_minor": 0,
  "metadata": {
    "colab": {
      "name": "DS 151 Sprint Project.ipynb",
      "version": "0.3.2",
      "provenance": [],
      "collapsed_sections": [],
      "include_colab_link": true
    },
    "kernelspec": {
      "name": "python3",
      "display_name": "Python 3"
    },
    "accelerator": "GPU"
  },
  "cells": [
    {
      "cell_type": "markdown",
      "metadata": {
        "id": "view-in-github",
        "colab_type": "text"
      },
      "source": [
        "<a href=\"https://colab.research.google.com/github/hughjafro/DS-Sprint-5-Project-Week/blob/master/DS_151_Sprint_Project.ipynb\" target=\"_parent\"><img src=\"https://colab.research.google.com/assets/colab-badge.svg\" alt=\"Open In Colab\"/></a>"
      ]
    },
    {
      "metadata": {
        "id": "BbcPNJJUwR90",
        "colab_type": "code",
        "colab": {}
      },
      "cell_type": "code",
      "source": [
        ""
      ],
      "execution_count": 0,
      "outputs": []
    },
    {
      "metadata": {
        "id": "izktDEHgxIca",
        "colab_type": "text"
      },
      "cell_type": "markdown",
      "source": [
        "##Readme:\n",
        "\n",
        "####1. What is my hypothesis: That the team with a higher Elo should win more than 50% of the time\n",
        "\n",
        "**Background:**\n",
        "* NBA founded in 1946 as Basketball Association of America. Merged with National Basketball League and renamed NB Ain 1949.\n",
        "* Four (4) ABA teams added to NBA in 1977 \n",
        "* Modern era is considered 1998 to present - post-Jordan Bulls dominance.\n",
        "* [Timeline of NBA Teams](https://en.wikipedia.org/wiki/Timeline_of_the_National_Basketball_Association)\n",
        "\n",
        "####2. Add data from fivethirthyeight regarding Elo and CARM-ELO\n",
        "\n",
        "\n",
        "####3. Explore Parse/Clean Data\n",
        "  * Determine what data is necessary and which is auxiliary\n",
        "  * Clean data - deal with empty cells\n",
        "  * \n",
        "\n",
        "####4. Define essential data, Group data\n",
        "* Group by year, first, to analyze data by year, Then expand to multiple years\n",
        "  * Group by team to determine\n",
        "* Group by home team (team 1) / Away team (team 2)\n",
        "\n",
        "####5. Data Viz\n",
        "* Probably Seaborn, Plotly, Bokeh\n",
        "* Utilize line charts\n",
        "  * with colored area under the cover\n",
        "* Extend to Bokeh\n",
        "  * bar_pandas_groupby_nested\n",
        "  * ridgeplot\n",
        "  * **range_tool!!!!**\n",
        "\n",
        "####6. Build further models/algorithms\n",
        "* Stretch Goals\n",
        "    * Add hypothesis testing\n",
        "    * .rolling - Rolling Average ([Stack Overflow](https://stackoverflow.com/questions/49684734/dataframe-moving-average-with-rolling-mean-and-shift-while-ignoring-nan))\n",
        "\n",
        "####7. Feedback loop / Iterate\n",
        "\n",
        "\n",
        "####Notes:\n",
        "Explanation of Elo rating from [FiveThirtyEight](https://fivethirtyeight.com/features/how-we-calculate-nba-elo-ratings/)\n",
        "[CARM-ELO](https://projects.fivethirtyeight.com/carmelo/) (**C**areer-**a**rc **R**egression **M**odel **E**stimator with **L**ocal **O**ptimization ) explanation\n",
        "\n",
        "Special data that introduces specific stats. May later explain jumps/spikes in data results:\n",
        "\n",
        "*Seperated by years the new stat was introduced and tracked*\n",
        "\n",
        "| Pre-1971        | 1973-74           | 1977-80  |\n",
        "| ------------- |:-------------:| -----:|\n",
        "| Rebounds: 1950-51      | Steals: 1973-74 | Turnovers: 1977-78 |\n",
        "| Minutes: 1951-52      | Blocks: 1973-74     | 3-pt: 1979-80     \n",
        "| Started: 1970-71 | Off Rebounds: 1973-74     |     |\n",
        "|  | Def Rebounds: 1973-74      |     |\n",
        "\n",
        "*[Neutral site game](https://https://www.nba.com/global/games2013/all-time-international-game-list.html)* - There are a total of 30 neutral site games\n",
        "\n",
        "*[NBA stats FAQ](https://https://stats.nba.com/help/faq/)*\n",
        "\n",
        "*Total games from 11/1/1946 to 6/8/18* - 67094 (includes playoffs)\n",
        "\n"
      ]
    },
    {
      "metadata": {
        "id": "Q3oJr__mFON7",
        "colab_type": "text"
      },
      "cell_type": "markdown",
      "source": [
        "###1. Hypothesis"
      ]
    },
    {
      "metadata": {
        "id": "tbQozoFIFSDE",
        "colab_type": "code",
        "colab": {}
      },
      "cell_type": "code",
      "source": [
        ""
      ],
      "execution_count": 0,
      "outputs": []
    },
    {
      "metadata": {
        "id": "yTqzVEI4FS6p",
        "colab_type": "code",
        "colab": {}
      },
      "cell_type": "code",
      "source": [
        ""
      ],
      "execution_count": 0,
      "outputs": []
    },
    {
      "metadata": {
        "id": "QIgM7c3OFSmu",
        "colab_type": "text"
      },
      "cell_type": "markdown",
      "source": [
        "####2. Add data from fivethirthyeight regarding Elo and CARM-ELO"
      ]
    },
    {
      "metadata": {
        "id": "u5CT4lcaFeL7",
        "colab_type": "code",
        "colab": {}
      },
      "cell_type": "code",
      "source": [
        "# import all modules\n",
        "%matplotlib inline\n",
        "import numpy as np\n",
        "import pandas as pd\n",
        "import matplotlib.pyplot as plt"
      ],
      "execution_count": 0,
      "outputs": []
    },
    {
      "metadata": {
        "id": "gw17l4s6pAz-",
        "colab_type": "code",
        "outputId": "8442c516-c215-4816-e791-877eaf4b7d4d",
        "colab": {
          "base_uri": "https://localhost:8080/",
          "height": 207
        }
      },
      "cell_type": "code",
      "source": [
        "!pip install --upgrade seaborn"
      ],
      "execution_count": 2,
      "outputs": [
        {
          "output_type": "stream",
          "text": [
            "Requirement already up-to-date: seaborn in /usr/local/lib/python3.6/dist-packages (0.9.0)\n",
            "Requirement already satisfied, skipping upgrade: numpy>=1.9.3 in /usr/local/lib/python3.6/dist-packages (from seaborn) (1.14.6)\n",
            "Requirement already satisfied, skipping upgrade: pandas>=0.15.2 in /usr/local/lib/python3.6/dist-packages (from seaborn) (0.22.0)\n",
            "Requirement already satisfied, skipping upgrade: matplotlib>=1.4.3 in /usr/local/lib/python3.6/dist-packages (from seaborn) (2.1.2)\n",
            "Requirement already satisfied, skipping upgrade: scipy>=0.14.0 in /usr/local/lib/python3.6/dist-packages (from seaborn) (1.1.0)\n",
            "Requirement already satisfied, skipping upgrade: python-dateutil>=2 in /usr/local/lib/python3.6/dist-packages (from pandas>=0.15.2->seaborn) (2.5.3)\n",
            "Requirement already satisfied, skipping upgrade: pytz>=2011k in /usr/local/lib/python3.6/dist-packages (from pandas>=0.15.2->seaborn) (2018.7)\n",
            "Requirement already satisfied, skipping upgrade: six>=1.10 in /usr/local/lib/python3.6/dist-packages (from matplotlib>=1.4.3->seaborn) (1.11.0)\n",
            "Requirement already satisfied, skipping upgrade: cycler>=0.10 in /usr/local/lib/python3.6/dist-packages (from matplotlib>=1.4.3->seaborn) (0.10.0)\n",
            "Requirement already satisfied, skipping upgrade: pyparsing!=2.0.4,!=2.1.2,!=2.1.6,>=2.0.1 in /usr/local/lib/python3.6/dist-packages (from matplotlib>=1.4.3->seaborn) (2.3.0)\n"
          ],
          "name": "stdout"
        }
      ]
    },
    {
      "metadata": {
        "id": "QEbiVGAUoq63",
        "colab_type": "code",
        "colab": {}
      },
      "cell_type": "code",
      "source": [
        "#import seaborn seperately just in case version control issues occur\n",
        "import seaborn as sns"
      ],
      "execution_count": 0,
      "outputs": []
    },
    {
      "metadata": {
        "id": "iLtLy3Omo1st",
        "colab_type": "code",
        "outputId": "c7bcc393-fc60-4312-e080-472c54624686",
        "colab": {
          "base_uri": "https://localhost:8080/",
          "height": 34
        }
      },
      "cell_type": "code",
      "source": [
        "sns.__version__"
      ],
      "execution_count": 4,
      "outputs": [
        {
          "output_type": "execute_result",
          "data": {
            "text/plain": [
              "'0.9.0'"
            ]
          },
          "metadata": {
            "tags": []
          },
          "execution_count": 4
        }
      ]
    },
    {
      "metadata": {
        "id": "noaCG_5sGLq0",
        "colab_type": "code",
        "outputId": "e4f8e2da-1406-43a7-99e8-9c145db576dd",
        "colab": {
          "base_uri": "https://localhost:8080/",
          "height": 351
        }
      },
      "cell_type": "code",
      "source": [
        "# Data source: FiveThirthyEight\n",
        "url = 'https://projects.fivethirtyeight.com/nba-model/nba_elo.csv'\n",
        "\n",
        "# Import dataset from assigned url\n",
        "nba_data = pd.read_csv(url)\n",
        "\n",
        "#Convert date column to datetime format\n",
        "nba_data['date'] = pd.to_datetime(nba_data['date']) \n",
        "\n",
        "# Look at the rows/columns and general statistical data\n",
        "print(nba_data.shape)\n",
        "\n",
        "nba_data.describe()"
      ],
      "execution_count": 54,
      "outputs": [
        {
          "output_type": "stream",
          "text": [
            "(68324, 24)\n"
          ],
          "name": "stdout"
        },
        {
          "output_type": "execute_result",
          "data": {
            "text/html": [
              "<div>\n",
              "<style scoped>\n",
              "    .dataframe tbody tr th:only-of-type {\n",
              "        vertical-align: middle;\n",
              "    }\n",
              "\n",
              "    .dataframe tbody tr th {\n",
              "        vertical-align: top;\n",
              "    }\n",
              "\n",
              "    .dataframe thead th {\n",
              "        text-align: right;\n",
              "    }\n",
              "</style>\n",
              "<table border=\"1\" class=\"dataframe\">\n",
              "  <thead>\n",
              "    <tr style=\"text-align: right;\">\n",
              "      <th></th>\n",
              "      <th>season</th>\n",
              "      <th>neutral</th>\n",
              "      <th>elo1_pre</th>\n",
              "      <th>elo2_pre</th>\n",
              "      <th>elo_prob1</th>\n",
              "      <th>elo_prob2</th>\n",
              "      <th>elo1_post</th>\n",
              "      <th>elo2_post</th>\n",
              "      <th>carm-elo1_pre</th>\n",
              "      <th>carm-elo2_pre</th>\n",
              "      <th>carm-elo1_post</th>\n",
              "      <th>carm-elo2_post</th>\n",
              "      <th>carm-elo_prob1</th>\n",
              "      <th>carm-elo_prob2</th>\n",
              "      <th>carmelo1_pre</th>\n",
              "      <th>carmelo2_pre</th>\n",
              "      <th>carmelo_prob1</th>\n",
              "      <th>carmelo_prob2</th>\n",
              "      <th>score1</th>\n",
              "      <th>score2</th>\n",
              "    </tr>\n",
              "  </thead>\n",
              "  <tbody>\n",
              "    <tr>\n",
              "      <th>count</th>\n",
              "      <td>68324.000000</td>\n",
              "      <td>68324.000000</td>\n",
              "      <td>68324.000000</td>\n",
              "      <td>68324.000000</td>\n",
              "      <td>68324.000000</td>\n",
              "      <td>68324.000000</td>\n",
              "      <td>67509.000000</td>\n",
              "      <td>67509.000000</td>\n",
              "      <td>5167.000000</td>\n",
              "      <td>5167.000000</td>\n",
              "      <td>4352.000000</td>\n",
              "      <td>4352.000000</td>\n",
              "      <td>5167.000000</td>\n",
              "      <td>5167.000000</td>\n",
              "      <td>1230.000000</td>\n",
              "      <td>1230.000000</td>\n",
              "      <td>1230.000000</td>\n",
              "      <td>1230.000000</td>\n",
              "      <td>67509.000000</td>\n",
              "      <td>67509.000000</td>\n",
              "    </tr>\n",
              "    <tr>\n",
              "      <th>mean</th>\n",
              "      <td>1990.414291</td>\n",
              "      <td>0.000439</td>\n",
              "      <td>1496.288527</td>\n",
              "      <td>1496.531596</td>\n",
              "      <td>0.621177</td>\n",
              "      <td>0.378823</td>\n",
              "      <td>1496.139950</td>\n",
              "      <td>1496.478742</td>\n",
              "      <td>1512.581361</td>\n",
              "      <td>1510.895672</td>\n",
              "      <td>1512.443791</td>\n",
              "      <td>1512.551289</td>\n",
              "      <td>0.626500</td>\n",
              "      <td>0.373500</td>\n",
              "      <td>1515.391189</td>\n",
              "      <td>1515.190962</td>\n",
              "      <td>0.620690</td>\n",
              "      <td>0.379310</td>\n",
              "      <td>104.736568</td>\n",
              "      <td>101.052749</td>\n",
              "    </tr>\n",
              "    <tr>\n",
              "      <th>std</th>\n",
              "      <td>18.594788</td>\n",
              "      <td>0.020950</td>\n",
              "      <td>112.336802</td>\n",
              "      <td>111.772688</td>\n",
              "      <td>0.178154</td>\n",
              "      <td>0.178154</td>\n",
              "      <td>112.904160</td>\n",
              "      <td>112.062694</td>\n",
              "      <td>117.411214</td>\n",
              "      <td>117.005928</td>\n",
              "      <td>119.041196</td>\n",
              "      <td>118.110868</td>\n",
              "      <td>0.191998</td>\n",
              "      <td>0.191998</td>\n",
              "      <td>118.110878</td>\n",
              "      <td>117.916737</td>\n",
              "      <td>0.201302</td>\n",
              "      <td>0.201302</td>\n",
              "      <td>14.833846</td>\n",
              "      <td>14.283673</td>\n",
              "    </tr>\n",
              "    <tr>\n",
              "      <th>min</th>\n",
              "      <td>1947.000000</td>\n",
              "      <td>0.000000</td>\n",
              "      <td>1105.617800</td>\n",
              "      <td>1091.644500</td>\n",
              "      <td>0.062616</td>\n",
              "      <td>0.018315</td>\n",
              "      <td>1100.291900</td>\n",
              "      <td>1085.774400</td>\n",
              "      <td>1187.730784</td>\n",
              "      <td>1192.842155</td>\n",
              "      <td>1187.730784</td>\n",
              "      <td>1192.004524</td>\n",
              "      <td>0.060474</td>\n",
              "      <td>0.013407</td>\n",
              "      <td>1281.328778</td>\n",
              "      <td>1276.551561</td>\n",
              "      <td>0.120228</td>\n",
              "      <td>0.037539</td>\n",
              "      <td>2.000000</td>\n",
              "      <td>0.000000</td>\n",
              "    </tr>\n",
              "    <tr>\n",
              "      <th>25%</th>\n",
              "      <td>1976.000000</td>\n",
              "      <td>0.000000</td>\n",
              "      <td>1418.910550</td>\n",
              "      <td>1419.052850</td>\n",
              "      <td>0.498848</td>\n",
              "      <td>0.240520</td>\n",
              "      <td>1417.841700</td>\n",
              "      <td>1418.807900</td>\n",
              "      <td>1438.930652</td>\n",
              "      <td>1438.193630</td>\n",
              "      <td>1434.249496</td>\n",
              "      <td>1435.686432</td>\n",
              "      <td>0.494773</td>\n",
              "      <td>0.220389</td>\n",
              "      <td>1432.879498</td>\n",
              "      <td>1432.879498</td>\n",
              "      <td>0.470104</td>\n",
              "      <td>0.210584</td>\n",
              "      <td>95.000000</td>\n",
              "      <td>92.000000</td>\n",
              "    </tr>\n",
              "    <tr>\n",
              "      <th>50%</th>\n",
              "      <td>1992.000000</td>\n",
              "      <td>0.000000</td>\n",
              "      <td>1501.683749</td>\n",
              "      <td>1502.858400</td>\n",
              "      <td>0.639999</td>\n",
              "      <td>0.360001</td>\n",
              "      <td>1501.540900</td>\n",
              "      <td>1502.436000</td>\n",
              "      <td>1511.601379</td>\n",
              "      <td>1511.129658</td>\n",
              "      <td>1510.344856</td>\n",
              "      <td>1512.235418</td>\n",
              "      <td>0.652158</td>\n",
              "      <td>0.347842</td>\n",
              "      <td>1519.041607</td>\n",
              "      <td>1519.041607</td>\n",
              "      <td>0.646658</td>\n",
              "      <td>0.353342</td>\n",
              "      <td>105.000000</td>\n",
              "      <td>101.000000</td>\n",
              "    </tr>\n",
              "    <tr>\n",
              "      <th>75%</th>\n",
              "      <td>2006.000000</td>\n",
              "      <td>0.000000</td>\n",
              "      <td>1576.590325</td>\n",
              "      <td>1576.036450</td>\n",
              "      <td>0.759480</td>\n",
              "      <td>0.501152</td>\n",
              "      <td>1576.696200</td>\n",
              "      <td>1576.256600</td>\n",
              "      <td>1589.251142</td>\n",
              "      <td>1585.906281</td>\n",
              "      <td>1585.690723</td>\n",
              "      <td>1583.582698</td>\n",
              "      <td>0.779611</td>\n",
              "      <td>0.505227</td>\n",
              "      <td>1609.128145</td>\n",
              "      <td>1609.128145</td>\n",
              "      <td>0.789416</td>\n",
              "      <td>0.529896</td>\n",
              "      <td>114.000000</td>\n",
              "      <td>110.000000</td>\n",
              "    </tr>\n",
              "    <tr>\n",
              "      <th>max</th>\n",
              "      <td>2019.000000</td>\n",
              "      <td>1.000000</td>\n",
              "      <td>1855.779115</td>\n",
              "      <td>1865.449075</td>\n",
              "      <td>0.981685</td>\n",
              "      <td>0.937384</td>\n",
              "      <td>1860.313175</td>\n",
              "      <td>1865.449075</td>\n",
              "      <td>1872.690559</td>\n",
              "      <td>1881.619599</td>\n",
              "      <td>1876.930941</td>\n",
              "      <td>1881.619599</td>\n",
              "      <td>0.986593</td>\n",
              "      <td>0.939526</td>\n",
              "      <td>1765.838659</td>\n",
              "      <td>1767.243578</td>\n",
              "      <td>0.962461</td>\n",
              "      <td>0.879772</td>\n",
              "      <td>184.000000</td>\n",
              "      <td>186.000000</td>\n",
              "    </tr>\n",
              "  </tbody>\n",
              "</table>\n",
              "</div>"
            ],
            "text/plain": [
              "             season       neutral      elo1_pre      elo2_pre     elo_prob1  \\\n",
              "count  68324.000000  68324.000000  68324.000000  68324.000000  68324.000000   \n",
              "mean    1990.414291      0.000439   1496.288527   1496.531596      0.621177   \n",
              "std       18.594788      0.020950    112.336802    111.772688      0.178154   \n",
              "min     1947.000000      0.000000   1105.617800   1091.644500      0.062616   \n",
              "25%     1976.000000      0.000000   1418.910550   1419.052850      0.498848   \n",
              "50%     1992.000000      0.000000   1501.683749   1502.858400      0.639999   \n",
              "75%     2006.000000      0.000000   1576.590325   1576.036450      0.759480   \n",
              "max     2019.000000      1.000000   1855.779115   1865.449075      0.981685   \n",
              "\n",
              "          elo_prob2     elo1_post     elo2_post  carm-elo1_pre  carm-elo2_pre  \\\n",
              "count  68324.000000  67509.000000  67509.000000    5167.000000    5167.000000   \n",
              "mean       0.378823   1496.139950   1496.478742    1512.581361    1510.895672   \n",
              "std        0.178154    112.904160    112.062694     117.411214     117.005928   \n",
              "min        0.018315   1100.291900   1085.774400    1187.730784    1192.842155   \n",
              "25%        0.240520   1417.841700   1418.807900    1438.930652    1438.193630   \n",
              "50%        0.360001   1501.540900   1502.436000    1511.601379    1511.129658   \n",
              "75%        0.501152   1576.696200   1576.256600    1589.251142    1585.906281   \n",
              "max        0.937384   1860.313175   1865.449075    1872.690559    1881.619599   \n",
              "\n",
              "       carm-elo1_post  carm-elo2_post  carm-elo_prob1  carm-elo_prob2  \\\n",
              "count     4352.000000     4352.000000     5167.000000     5167.000000   \n",
              "mean      1512.443791     1512.551289        0.626500        0.373500   \n",
              "std        119.041196      118.110868        0.191998        0.191998   \n",
              "min       1187.730784     1192.004524        0.060474        0.013407   \n",
              "25%       1434.249496     1435.686432        0.494773        0.220389   \n",
              "50%       1510.344856     1512.235418        0.652158        0.347842   \n",
              "75%       1585.690723     1583.582698        0.779611        0.505227   \n",
              "max       1876.930941     1881.619599        0.986593        0.939526   \n",
              "\n",
              "       carmelo1_pre  carmelo2_pre  carmelo_prob1  carmelo_prob2        score1  \\\n",
              "count   1230.000000   1230.000000    1230.000000    1230.000000  67509.000000   \n",
              "mean    1515.391189   1515.190962       0.620690       0.379310    104.736568   \n",
              "std      118.110878    117.916737       0.201302       0.201302     14.833846   \n",
              "min     1281.328778   1276.551561       0.120228       0.037539      2.000000   \n",
              "25%     1432.879498   1432.879498       0.470104       0.210584     95.000000   \n",
              "50%     1519.041607   1519.041607       0.646658       0.353342    105.000000   \n",
              "75%     1609.128145   1609.128145       0.789416       0.529896    114.000000   \n",
              "max     1765.838659   1767.243578       0.962461       0.879772    184.000000   \n",
              "\n",
              "             score2  \n",
              "count  67509.000000  \n",
              "mean     101.052749  \n",
              "std       14.283673  \n",
              "min        0.000000  \n",
              "25%       92.000000  \n",
              "50%      101.000000  \n",
              "75%      110.000000  \n",
              "max      186.000000  "
            ]
          },
          "metadata": {
            "tags": []
          },
          "execution_count": 54
        }
      ]
    },
    {
      "metadata": {
        "id": "wekFl1pMqhWS",
        "colab_type": "code",
        "colab": {
          "base_uri": "https://localhost:8080/",
          "height": 119
        },
        "outputId": "4881270b-dacc-415c-9838-916172d2f79c"
      },
      "cell_type": "code",
      "source": [
        "# May need to use averages for 2018 season\n",
        "print(\"2018 - Home team mean score: \", nba_data[nba_data['season'] == 2018]['score1'].mean())\n",
        "print(\"2018 - Away team mean score: \", nba_data[nba_data['season'] == 2018]['score2'].mean())\n",
        "print(\"2018 - Home team before game Elo mean score: \", nba_data[nba_data['season'] == 2018]['elo1_pre'].mean())\n",
        "print(\"2018 - Home team after game Elo mean score: \", nba_data[nba_data['season'] == 2018]['elo1_post'].mean())\n",
        "print(\"2018 - Away team before game Elo mean score: \", nba_data[nba_data['season'] == 2018]['elo2_pre'].mean())\n",
        "print(\"2018 - Away team before game Elo mean score: \", nba_data[nba_data['season'] == 2018]['elo2_post'].mean())"
      ],
      "execution_count": 65,
      "outputs": [
        {
          "output_type": "stream",
          "text": [
            "2018 - Home team mean score:  107.3986280487805\n",
            "2018 - Away team mean score:  105.03201219512195\n",
            "2018 - Home team before game Elo mean score:  1513.7851224779076\n",
            "2018 - Home team after game Elo mean score:  1512.5584547900144\n",
            "2018 - Away team before game Elo mean score:  1510.3973173980207\n",
            "2018 - Away team before game Elo mean score:  1511.6239850859142\n"
          ],
          "name": "stdout"
        }
      ]
    },
    {
      "metadata": {
        "id": "8hgDaVKyrq1j",
        "colab_type": "text"
      },
      "cell_type": "markdown",
      "source": [
        "Why does the away team's Elo rating rise, on average, after the game? Looks like the away team in 2018 season won more than the home team?!?"
      ]
    },
    {
      "metadata": {
        "id": "3lKczq7stY9q",
        "colab_type": "code",
        "colab": {}
      },
      "cell_type": "code",
      "source": [
        "# Set the means of the main categories to variables for future use\n",
        "nba_hscore_mean = nba_data[nba_data['season'] == 2018]['score1'].mean()\n",
        "nba_ascore_mean = nba_data[nba_data['season'] == 2018]['score2'].mean()\n",
        "nba_elo1pre_mean = nba_data[nba_data['season'] == 2018]['elo1_pre'].mean()\n",
        "nba_elo1post_mean = nba_data[nba_data['season'] == 2018]['elo1_post'].mean()\n",
        "nba_elo2pre_mean = nba_data[nba_data['season'] == 2018]['elo2_pre'].mean()\n",
        "nba_elo2post_mean = nba_data[nba_data['season'] == 2018]['elo2_post'].mean()"
      ],
      "execution_count": 0,
      "outputs": []
    },
    {
      "metadata": {
        "id": "qGmyf_gAufVL",
        "colab_type": "code",
        "colab": {
          "base_uri": "https://localhost:8080/",
          "height": 1071
        },
        "outputId": "a41874db-fbea-497c-aa45-d96e942ce747"
      },
      "cell_type": "code",
      "source": [
        "# Moving average of Home Team pre-game Elo rating\n",
        "nba_rolling_elo1pre = nba_data.elo1_pre.rolling(window=2).mean()\n",
        "nba_rolling_elo1pre"
      ],
      "execution_count": 101,
      "outputs": [
        {
          "output_type": "execute_result",
          "data": {
            "text/plain": [
              "0                NaN\n",
              "1        1300.000000\n",
              "2        1300.000000\n",
              "3        1300.000000\n",
              "4        1300.000000\n",
              "5        1300.000000\n",
              "6        1297.654600\n",
              "7        1295.077500\n",
              "8        1287.232350\n",
              "9        1289.809450\n",
              "10       1302.577100\n",
              "11       1309.000750\n",
              "12       1299.500350\n",
              "13       1298.828300\n",
              "14       1307.051000\n",
              "15       1306.166900\n",
              "16       1289.090900\n",
              "17       1287.785050\n",
              "18       1307.221500\n",
              "19       1287.393550\n",
              "20       1298.411600\n",
              "21       1305.469900\n",
              "22       1293.125500\n",
              "23       1305.199650\n",
              "24       1294.692100\n",
              "25       1275.401000\n",
              "26       1300.948300\n",
              "27       1313.981300\n",
              "28       1297.778100\n",
              "29       1305.404200\n",
              "            ...     \n",
              "68294    1545.594189\n",
              "68295    1618.225773\n",
              "68296    1490.712257\n",
              "68297    1459.969896\n",
              "68298    1593.039031\n",
              "68299    1584.708232\n",
              "68300    1516.626429\n",
              "68301    1521.525971\n",
              "68302    1500.142325\n",
              "68303    1430.960874\n",
              "68304    1439.940439\n",
              "68305    1465.323489\n",
              "68306    1378.729523\n",
              "68307    1425.341142\n",
              "68308    1539.370197\n",
              "68309    1515.018484\n",
              "68310    1534.680714\n",
              "68311    1592.642693\n",
              "68312    1588.446791\n",
              "68313    1584.052155\n",
              "68314    1545.594189\n",
              "68315    1418.080673\n",
              "68316    1439.724033\n",
              "68317    1417.894466\n",
              "68318    1405.335865\n",
              "68319    1466.203877\n",
              "68320    1510.915689\n",
              "68321    1592.790454\n",
              "68322    1566.736748\n",
              "68323    1536.408665\n",
              "Name: elo1_pre, Length: 68324, dtype: float64"
            ]
          },
          "metadata": {
            "tags": []
          },
          "execution_count": 101
        }
      ]
    },
    {
      "metadata": {
        "id": "CI2ouwhAvhup",
        "colab_type": "code",
        "colab": {
          "base_uri": "https://localhost:8080/",
          "height": 295
        },
        "outputId": "d324a58c-912b-49f3-850e-56a876ab3a37"
      },
      "cell_type": "code",
      "source": [
        "plt.plot(nba_data.date, nba_rolling_elo1pre, color='green', marker='o', markersize=1.5, linestyle='solid');\n",
        "plt.xlabel('Season')\n",
        "plt.ylabel('Pregame Elo')\n",
        "plt.title('Pregame Elo Rating of Home Team', loc='left');\n"
      ],
      "execution_count": 102,
      "outputs": [
        {
          "output_type": "display_data",
          "data": {
            "image/png": "[encoded data removed]",
            "text/plain": [
              "<matplotlib.figure.Figure at 0x7fbb18f53588>"
            ]
          },
          "metadata": {
            "tags": []
          }
        }
      ]
    },
    {
      "metadata": {
        "id": "lFqVPrv5wfq7",
        "colab_type": "code",
        "colab": {
          "base_uri": "https://localhost:8080/",
          "height": 295
        },
        "outputId": "4d76bb61-696b-4186-8a25-142d564c6bdf"
      },
      "cell_type": "code",
      "source": [
        "plt.plot(nba_data.date, nba_rolling_elo2pre, color='orange', marker='x', markersize=1.5, linestyle='solid');\n",
        "plt.xlabel('Season')\n",
        "plt.ylabel('Pregame Elo')\n",
        "plt.title('Pregame Elo Rating of Away Team');"
      ],
      "execution_count": 105,
      "outputs": [
        {
          "output_type": "display_data",
          "data": {
            "image/png": "[encoded data removed]",
            "text/plain": [
              "<matplotlib.figure.Figure at 0x7fbb1b8947b8>"
            ]
          },
          "metadata": {
            "tags": []
          }
        }
      ]
    },
    {
      "metadata": {
        "id": "4ysGyueAvEI1",
        "colab_type": "code",
        "colab": {
          "base_uri": "https://localhost:8080/",
          "height": 1071
        },
        "outputId": "b60a3f63-1483-41c6-e815-f04afde3b4b7"
      },
      "cell_type": "code",
      "source": [
        "# Moving average of Away Team pre-game Elo rating\n",
        "nba_rolling_elo2pre = nba_data.elo2_pre.rolling(window=2).mean()\n",
        "nba_rolling_elo2pre"
      ],
      "execution_count": 86,
      "outputs": [
        {
          "output_type": "execute_result",
          "data": {
            "text/plain": [
              "0                NaN\n",
              "1        1303.361650\n",
              "2        1303.361650\n",
              "3        1300.000000\n",
              "4        1300.000000\n",
              "5        1296.638350\n",
              "6        1306.828900\n",
              "7        1315.016600\n",
              "8        1307.171450\n",
              "9        1291.318200\n",
              "10       1297.014800\n",
              "11       1306.577600\n",
              "12       1284.266800\n",
              "13       1272.370500\n",
              "14       1305.511700\n",
              "15       1313.456950\n",
              "16       1288.791500\n",
              "17       1311.512550\n",
              "18       1324.931700\n",
              "19       1316.283250\n",
              "20       1296.295500\n",
              "21       1291.249850\n",
              "22       1313.927050\n",
              "23       1295.258600\n",
              "24       1291.664850\n",
              "25       1304.099500\n",
              "26       1305.695500\n",
              "27       1297.097150\n",
              "28       1276.461050\n",
              "29       1298.233400\n",
              "            ...     \n",
              "68294    1413.170576\n",
              "68295    1368.284447\n",
              "68296    1433.717700\n",
              "68297    1350.956526\n",
              "68298    1392.122408\n",
              "68299    1566.736748\n",
              "68300    1580.265067\n",
              "68301    1559.032428\n",
              "68302    1590.392827\n",
              "68303    1569.382319\n",
              "68304    1496.750735\n",
              "68305    1528.903947\n",
              "68306    1471.877245\n",
              "68307    1494.123106\n",
              "68308    1652.690337\n",
              "68309    1465.920071\n",
              "68310    1428.266050\n",
              "68311    1580.883105\n",
              "68312    1550.555022\n",
              "68313    1583.547249\n",
              "68314    1626.031258\n",
              "68315    1546.706356\n",
              "68316    1442.697265\n",
              "68317    1513.436451\n",
              "68318    1558.322580\n",
              "68319    1486.686411\n",
              "68320    1378.729523\n",
              "68321    1407.061596\n",
              "68322    1540.752881\n",
              "68323    1525.721873\n",
              "Name: elo2_pre, Length: 68324, dtype: float64"
            ]
          },
          "metadata": {
            "tags": []
          },
          "execution_count": 86
        }
      ]
    },
    {
      "metadata": {
        "id": "v_E0_DZKZxr-",
        "colab_type": "code",
        "colab": {
          "base_uri": "https://localhost:8080/",
          "height": 295
        },
        "outputId": "cb3cfc71-b2bc-4a97-aca7-7d7db85ae68d"
      },
      "cell_type": "code",
      "source": [
        "# make a scatterplot\n",
        "#sns.lmplot(x='score1', y='elo1_post', c='season', cmap='plasma', data=nba_data);\n",
        "plt.scatter(nba_data['score1'], nba_data['elo1_post'], c=nba_data['season'], cmap='plasma')\n",
        "plt.xlabel('Team 1 Score')\n",
        "plt.ylabel('Post Game Elo Team1')\n",
        "plt.title('Elo vs Score')\n",
        "plt.colorbar().set_label('Season')"
      ],
      "execution_count": 60,
      "outputs": [
        {
          "output_type": "display_data",
          "data": {
            "image/png": "[encoded data removed]",
            "text/plain": [
              "<matplotlib.figure.Figure at 0x7fbb18a15b00>"
            ]
          },
          "metadata": {
            "tags": []
          }
        }
      ]
    },
    {
      "metadata": {
        "id": "KEHrxKAbqS-l",
        "colab_type": "code",
        "colab": {}
      },
      "cell_type": "code",
      "source": [
        "plt.plot( 'x', 'y', data=df, linestyle='', marker='o', markersize=0.7)\n",
        "plt.xlabel('Value of X')\n",
        "plt.ylabel('Value of Y')\n",
        "plt.title('Overplotting? Try to reduce the dot size', loc='left')"
      ],
      "execution_count": 0,
      "outputs": []
    },
    {
      "metadata": {
        "id": "OVekSmdDtLyn",
        "colab_type": "text"
      },
      "cell_type": "markdown",
      "source": [
        "##2018 Season Only"
      ]
    },
    {
      "metadata": {
        "id": "EnOH6UMyyVBM",
        "colab_type": "code",
        "colab": {
          "base_uri": "https://localhost:8080/",
          "height": 34
        },
        "outputId": "79b48f41-9561-4842-ad68-7aef8a6dcc69"
      },
      "cell_type": "code",
      "source": [
        "# Work with 2017-2018 values first\n",
        "nba_2018 = nba_data.iloc[65783:67094]\n",
        "print(nba_2018.shape) # Shows 1311 total games"
      ],
      "execution_count": 32,
      "outputs": [
        {
          "output_type": "stream",
          "text": [
            "(1311, 24)\n"
          ],
          "name": "stdout"
        }
      ]
    },
    {
      "metadata": {
        "id": "COMxqwlIOBH0",
        "colab_type": "code",
        "colab": {
          "base_uri": "https://localhost:8080/",
          "height": 355
        },
        "outputId": "5e5cff1f-d5cf-4401-95a1-72bd74a5b31b"
      },
      "cell_type": "code",
      "source": [
        "nba_2018.head()"
      ],
      "execution_count": 34,
      "outputs": [
        {
          "output_type": "execute_result",
          "data": {
            "text/html": [
              "<div>\n",
              "<style scoped>\n",
              "    .dataframe tbody tr th:only-of-type {\n",
              "        vertical-align: middle;\n",
              "    }\n",
              "\n",
              "    .dataframe tbody tr th {\n",
              "        vertical-align: top;\n",
              "    }\n",
              "\n",
              "    .dataframe thead th {\n",
              "        text-align: right;\n",
              "    }\n",
              "</style>\n",
              "<table border=\"1\" class=\"dataframe\">\n",
              "  <thead>\n",
              "    <tr style=\"text-align: right;\">\n",
              "      <th></th>\n",
              "      <th>date</th>\n",
              "      <th>season</th>\n",
              "      <th>neutral</th>\n",
              "      <th>playoff</th>\n",
              "      <th>team1</th>\n",
              "      <th>team2</th>\n",
              "      <th>elo1_pre</th>\n",
              "      <th>elo2_pre</th>\n",
              "      <th>elo_prob1</th>\n",
              "      <th>elo_prob2</th>\n",
              "      <th>...</th>\n",
              "      <th>carm-elo1_post</th>\n",
              "      <th>carm-elo2_post</th>\n",
              "      <th>carm-elo_prob1</th>\n",
              "      <th>carm-elo_prob2</th>\n",
              "      <th>carmelo1_pre</th>\n",
              "      <th>carmelo2_pre</th>\n",
              "      <th>carmelo_prob1</th>\n",
              "      <th>carmelo_prob2</th>\n",
              "      <th>score1</th>\n",
              "      <th>score2</th>\n",
              "    </tr>\n",
              "  </thead>\n",
              "  <tbody>\n",
              "    <tr>\n",
              "      <th>65783</th>\n",
              "      <td>2017-10-17</td>\n",
              "      <td>2018</td>\n",
              "      <td>0</td>\n",
              "      <td>NaN</td>\n",
              "      <td>GSW</td>\n",
              "      <td>HOU</td>\n",
              "      <td>1760.609663</td>\n",
              "      <td>1574.467471</td>\n",
              "      <td>0.838508</td>\n",
              "      <td>0.161492</td>\n",
              "      <td>...</td>\n",
              "      <td>1753.884111</td>\n",
              "      <td>1682.115889</td>\n",
              "      <td>0.747495</td>\n",
              "      <td>0.252505</td>\n",
              "      <td>NaN</td>\n",
              "      <td>NaN</td>\n",
              "      <td>NaN</td>\n",
              "      <td>NaN</td>\n",
              "      <td>121.0</td>\n",
              "      <td>122.0</td>\n",
              "    </tr>\n",
              "    <tr>\n",
              "      <th>65784</th>\n",
              "      <td>2017-10-18</td>\n",
              "      <td>2018</td>\n",
              "      <td>0</td>\n",
              "      <td>NaN</td>\n",
              "      <td>IND</td>\n",
              "      <td>BRK</td>\n",
              "      <td>1502.884837</td>\n",
              "      <td>1405.034022</td>\n",
              "      <td>0.757481</td>\n",
              "      <td>0.242519</td>\n",
              "      <td>...</td>\n",
              "      <td>1411.729285</td>\n",
              "      <td>1375.270715</td>\n",
              "      <td>0.671978</td>\n",
              "      <td>0.328022</td>\n",
              "      <td>NaN</td>\n",
              "      <td>NaN</td>\n",
              "      <td>NaN</td>\n",
              "      <td>NaN</td>\n",
              "      <td>140.0</td>\n",
              "      <td>131.0</td>\n",
              "    </tr>\n",
              "    <tr>\n",
              "      <th>65785</th>\n",
              "      <td>2017-10-18</td>\n",
              "      <td>2018</td>\n",
              "      <td>0</td>\n",
              "      <td>NaN</td>\n",
              "      <td>WAS</td>\n",
              "      <td>PHI</td>\n",
              "      <td>1565.684248</td>\n",
              "      <td>1379.575952</td>\n",
              "      <td>0.838481</td>\n",
              "      <td>0.161519</td>\n",
              "      <td>...</td>\n",
              "      <td>1552.479069</td>\n",
              "      <td>1474.520931</td>\n",
              "      <td>0.718121</td>\n",
              "      <td>0.281879</td>\n",
              "      <td>NaN</td>\n",
              "      <td>NaN</td>\n",
              "      <td>NaN</td>\n",
              "      <td>NaN</td>\n",
              "      <td>120.0</td>\n",
              "      <td>115.0</td>\n",
              "    </tr>\n",
              "    <tr>\n",
              "      <th>65786</th>\n",
              "      <td>2017-10-18</td>\n",
              "      <td>2018</td>\n",
              "      <td>0</td>\n",
              "      <td>NaN</td>\n",
              "      <td>ORL</td>\n",
              "      <td>MIA</td>\n",
              "      <td>1390.229357</td>\n",
              "      <td>1552.809706</td>\n",
              "      <td>0.410901</td>\n",
              "      <td>0.589099</td>\n",
              "      <td>...</td>\n",
              "      <td>1464.397752</td>\n",
              "      <td>1476.602248</td>\n",
              "      <td>0.598634</td>\n",
              "      <td>0.401366</td>\n",
              "      <td>NaN</td>\n",
              "      <td>NaN</td>\n",
              "      <td>NaN</td>\n",
              "      <td>NaN</td>\n",
              "      <td>116.0</td>\n",
              "      <td>109.0</td>\n",
              "    </tr>\n",
              "    <tr>\n",
              "      <th>65787</th>\n",
              "      <td>2017-10-18</td>\n",
              "      <td>2018</td>\n",
              "      <td>0</td>\n",
              "      <td>NaN</td>\n",
              "      <td>DET</td>\n",
              "      <td>CHO</td>\n",
              "      <td>1456.654984</td>\n",
              "      <td>1473.216401</td>\n",
              "      <td>0.617821</td>\n",
              "      <td>0.382179</td>\n",
              "      <td>...</td>\n",
              "      <td>1439.104231</td>\n",
              "      <td>1529.895769</td>\n",
              "      <td>0.476536</td>\n",
              "      <td>0.523464</td>\n",
              "      <td>NaN</td>\n",
              "      <td>NaN</td>\n",
              "      <td>NaN</td>\n",
              "      <td>NaN</td>\n",
              "      <td>102.0</td>\n",
              "      <td>90.0</td>\n",
              "    </tr>\n",
              "  </tbody>\n",
              "</table>\n",
              "<p>5 rows × 24 columns</p>\n",
              "</div>"
            ],
            "text/plain": [
              "            date  season  neutral playoff team1 team2     elo1_pre  \\\n",
              "65783 2017-10-17    2018        0     NaN   GSW   HOU  1760.609663   \n",
              "65784 2017-10-18    2018        0     NaN   IND   BRK  1502.884837   \n",
              "65785 2017-10-18    2018        0     NaN   WAS   PHI  1565.684248   \n",
              "65786 2017-10-18    2018        0     NaN   ORL   MIA  1390.229357   \n",
              "65787 2017-10-18    2018        0     NaN   DET   CHO  1456.654984   \n",
              "\n",
              "          elo2_pre  elo_prob1  elo_prob2   ...    carm-elo1_post  \\\n",
              "65783  1574.467471   0.838508   0.161492   ...       1753.884111   \n",
              "65784  1405.034022   0.757481   0.242519   ...       1411.729285   \n",
              "65785  1379.575952   0.838481   0.161519   ...       1552.479069   \n",
              "65786  1552.809706   0.410901   0.589099   ...       1464.397752   \n",
              "65787  1473.216401   0.617821   0.382179   ...       1439.104231   \n",
              "\n",
              "       carm-elo2_post  carm-elo_prob1  carm-elo_prob2  carmelo1_pre  \\\n",
              "65783     1682.115889        0.747495        0.252505           NaN   \n",
              "65784     1375.270715        0.671978        0.328022           NaN   \n",
              "65785     1474.520931        0.718121        0.281879           NaN   \n",
              "65786     1476.602248        0.598634        0.401366           NaN   \n",
              "65787     1529.895769        0.476536        0.523464           NaN   \n",
              "\n",
              "       carmelo2_pre  carmelo_prob1  carmelo_prob2  score1  score2  \n",
              "65783           NaN            NaN            NaN   121.0   122.0  \n",
              "65784           NaN            NaN            NaN   140.0   131.0  \n",
              "65785           NaN            NaN            NaN   120.0   115.0  \n",
              "65786           NaN            NaN            NaN   116.0   109.0  \n",
              "65787           NaN            NaN            NaN   102.0    90.0  \n",
              "\n",
              "[5 rows x 24 columns]"
            ]
          },
          "metadata": {
            "tags": []
          },
          "execution_count": 34
        }
      ]
    },
    {
      "metadata": {
        "id": "esogyB956Omw",
        "colab_type": "code",
        "colab": {
          "base_uri": "https://localhost:8080/",
          "height": 269
        },
        "outputId": "54b4bd20-7234-4524-e9de-d4a395a3d985"
      },
      "cell_type": "code",
      "source": [
        "plt.plot('date', 'elo1_pre', data=nba_2018, markerfacecolor='blue')\n",
        "plt.show()"
      ],
      "execution_count": 75,
      "outputs": [
        {
          "output_type": "display_data",
          "data": {
            "image/png": "[encoded data removed]",
            "text/plain": [
              "<matplotlib.figure.Figure at 0x7fbb18f59710>"
            ]
          },
          "metadata": {
            "tags": []
          }
        }
      ]
    },
    {
      "metadata": {
        "id": "aWbYdgTZs5Yc",
        "colab_type": "code",
        "colab": {}
      },
      "cell_type": "code",
      "source": [
        "plt.plot"
      ],
      "execution_count": 0,
      "outputs": []
    },
    {
      "metadata": {
        "id": "Qn_4o8F8UZpJ",
        "colab_type": "code",
        "colab": {
          "base_uri": "https://localhost:8080/",
          "height": 369
        },
        "outputId": "198db48c-ed98-4ba0-bf59-01a545a4af10"
      },
      "cell_type": "code",
      "source": [
        "# make a scatterplot\n",
        "sns.lmplot(x='score1', y='elo1_post', data=nba_2018);\n"
      ],
      "execution_count": 72,
      "outputs": [
        {
          "output_type": "display_data",
          "data": {
            "image/png": "[encoded data removed]",
            "text/plain": [
              "<matplotlib.figure.Figure at 0x7fbb14b002b0>"
            ]
          },
          "metadata": {
            "tags": []
          }
        }
      ]
    },
    {
      "metadata": {
        "id": "xfjZCh24sGQM",
        "colab_type": "code",
        "colab": {}
      },
      "cell_type": "code",
      "source": [
        "#help(sns.lmplot)"
      ],
      "execution_count": 0,
      "outputs": []
    },
    {
      "metadata": {
        "id": "WJH5k0kT-Q2t",
        "colab_type": "code",
        "colab": {}
      },
      "cell_type": "code",
      "source": [
        "nba_2018.plot.hist(x='score1');"
      ],
      "execution_count": 0,
      "outputs": []
    },
    {
      "metadata": {
        "id": "TQ3fU78jqN8U",
        "colab_type": "code",
        "outputId": "5a008cfc-3005-48d6-86e2-f83c9b49f247",
        "colab": {
          "base_uri": "https://localhost:8080/",
          "height": 442
        }
      },
      "cell_type": "code",
      "source": [
        "nba_data.dtypes"
      ],
      "execution_count": 22,
      "outputs": [
        {
          "output_type": "execute_result",
          "data": {
            "text/plain": [
              "date              datetime64[ns]\n",
              "season                     int64\n",
              "neutral                    int64\n",
              "playoff                   object\n",
              "team1                     object\n",
              "team2                     object\n",
              "elo1_pre                 float64\n",
              "elo2_pre                 float64\n",
              "elo_prob1                float64\n",
              "elo_prob2                float64\n",
              "elo1_post                float64\n",
              "elo2_post                float64\n",
              "carm-elo1_pre            float64\n",
              "carm-elo2_pre            float64\n",
              "carm-elo1_post           float64\n",
              "carm-elo2_post           float64\n",
              "carm-elo_prob1           float64\n",
              "carm-elo_prob2           float64\n",
              "carmelo1_pre             float64\n",
              "carmelo2_pre             float64\n",
              "carmelo_prob1            float64\n",
              "carmelo_prob2            float64\n",
              "score1                   float64\n",
              "score2                   float64\n",
              "dtype: object"
            ]
          },
          "metadata": {
            "tags": []
          },
          "execution_count": 22
        }
      ]
    },
    {
      "metadata": {
        "id": "ySD2S4iS2vV5",
        "colab_type": "code",
        "colab": {
          "base_uri": "https://localhost:8080/",
          "height": 355
        },
        "outputId": "0e505011-90d9-41fa-ded6-6d2b1b0c53d5"
      },
      "cell_type": "code",
      "source": [
        "nba_2018.head()"
      ],
      "execution_count": 10,
      "outputs": [
        {
          "output_type": "execute_result",
          "data": {
            "text/html": [
              "<div>\n",
              "<style scoped>\n",
              "    .dataframe tbody tr th:only-of-type {\n",
              "        vertical-align: middle;\n",
              "    }\n",
              "\n",
              "    .dataframe tbody tr th {\n",
              "        vertical-align: top;\n",
              "    }\n",
              "\n",
              "    .dataframe thead th {\n",
              "        text-align: right;\n",
              "    }\n",
              "</style>\n",
              "<table border=\"1\" class=\"dataframe\">\n",
              "  <thead>\n",
              "    <tr style=\"text-align: right;\">\n",
              "      <th></th>\n",
              "      <th>date</th>\n",
              "      <th>season</th>\n",
              "      <th>neutral</th>\n",
              "      <th>playoff</th>\n",
              "      <th>team1</th>\n",
              "      <th>team2</th>\n",
              "      <th>elo1_pre</th>\n",
              "      <th>elo2_pre</th>\n",
              "      <th>elo_prob1</th>\n",
              "      <th>elo_prob2</th>\n",
              "      <th>...</th>\n",
              "      <th>carm-elo1_post</th>\n",
              "      <th>carm-elo2_post</th>\n",
              "      <th>carm-elo_prob1</th>\n",
              "      <th>carm-elo_prob2</th>\n",
              "      <th>carmelo1_pre</th>\n",
              "      <th>carmelo2_pre</th>\n",
              "      <th>carmelo_prob1</th>\n",
              "      <th>carmelo_prob2</th>\n",
              "      <th>score1</th>\n",
              "      <th>score2</th>\n",
              "    </tr>\n",
              "  </thead>\n",
              "  <tbody>\n",
              "    <tr>\n",
              "      <th>20170</th>\n",
              "      <td>1978-12-02</td>\n",
              "      <td>1979</td>\n",
              "      <td>0</td>\n",
              "      <td>NaN</td>\n",
              "      <td>NYK</td>\n",
              "      <td>POR</td>\n",
              "      <td>1479.9301</td>\n",
              "      <td>1512.0514</td>\n",
              "      <td>0.596461</td>\n",
              "      <td>0.403539</td>\n",
              "      <td>...</td>\n",
              "      <td>NaN</td>\n",
              "      <td>NaN</td>\n",
              "      <td>NaN</td>\n",
              "      <td>NaN</td>\n",
              "      <td>NaN</td>\n",
              "      <td>NaN</td>\n",
              "      <td>NaN</td>\n",
              "      <td>NaN</td>\n",
              "      <td>111.0</td>\n",
              "      <td>77.0</td>\n",
              "    </tr>\n",
              "    <tr>\n",
              "      <th>20171</th>\n",
              "      <td>1978-12-02</td>\n",
              "      <td>1979</td>\n",
              "      <td>0</td>\n",
              "      <td>NaN</td>\n",
              "      <td>PHI</td>\n",
              "      <td>SEA</td>\n",
              "      <td>1589.0641</td>\n",
              "      <td>1593.8909</td>\n",
              "      <td>0.633639</td>\n",
              "      <td>0.366361</td>\n",
              "      <td>...</td>\n",
              "      <td>NaN</td>\n",
              "      <td>NaN</td>\n",
              "      <td>NaN</td>\n",
              "      <td>NaN</td>\n",
              "      <td>NaN</td>\n",
              "      <td>NaN</td>\n",
              "      <td>NaN</td>\n",
              "      <td>NaN</td>\n",
              "      <td>97.0</td>\n",
              "      <td>100.0</td>\n",
              "    </tr>\n",
              "    <tr>\n",
              "      <th>20172</th>\n",
              "      <td>1978-12-02</td>\n",
              "      <td>1979</td>\n",
              "      <td>0</td>\n",
              "      <td>NaN</td>\n",
              "      <td>PHO</td>\n",
              "      <td>GSW</td>\n",
              "      <td>1571.8826</td>\n",
              "      <td>1524.8765</td>\n",
              "      <td>0.699777</td>\n",
              "      <td>0.300223</td>\n",
              "      <td>...</td>\n",
              "      <td>NaN</td>\n",
              "      <td>NaN</td>\n",
              "      <td>NaN</td>\n",
              "      <td>NaN</td>\n",
              "      <td>NaN</td>\n",
              "      <td>NaN</td>\n",
              "      <td>NaN</td>\n",
              "      <td>NaN</td>\n",
              "      <td>108.0</td>\n",
              "      <td>116.0</td>\n",
              "    </tr>\n",
              "    <tr>\n",
              "      <th>20173</th>\n",
              "      <td>1978-12-02</td>\n",
              "      <td>1979</td>\n",
              "      <td>0</td>\n",
              "      <td>NaN</td>\n",
              "      <td>SAS</td>\n",
              "      <td>DEN</td>\n",
              "      <td>1556.3341</td>\n",
              "      <td>1506.9819</td>\n",
              "      <td>0.702606</td>\n",
              "      <td>0.297394</td>\n",
              "      <td>...</td>\n",
              "      <td>NaN</td>\n",
              "      <td>NaN</td>\n",
              "      <td>NaN</td>\n",
              "      <td>NaN</td>\n",
              "      <td>NaN</td>\n",
              "      <td>NaN</td>\n",
              "      <td>NaN</td>\n",
              "      <td>NaN</td>\n",
              "      <td>93.0</td>\n",
              "      <td>104.0</td>\n",
              "    </tr>\n",
              "    <tr>\n",
              "      <th>20174</th>\n",
              "      <td>1978-12-02</td>\n",
              "      <td>1979</td>\n",
              "      <td>0</td>\n",
              "      <td>NaN</td>\n",
              "      <td>SDC</td>\n",
              "      <td>DET</td>\n",
              "      <td>1394.5913</td>\n",
              "      <td>1438.7286</td>\n",
              "      <td>0.579707</td>\n",
              "      <td>0.420293</td>\n",
              "      <td>...</td>\n",
              "      <td>NaN</td>\n",
              "      <td>NaN</td>\n",
              "      <td>NaN</td>\n",
              "      <td>NaN</td>\n",
              "      <td>NaN</td>\n",
              "      <td>NaN</td>\n",
              "      <td>NaN</td>\n",
              "      <td>NaN</td>\n",
              "      <td>113.0</td>\n",
              "      <td>120.0</td>\n",
              "    </tr>\n",
              "  </tbody>\n",
              "</table>\n",
              "<p>5 rows × 24 columns</p>\n",
              "</div>"
            ],
            "text/plain": [
              "            date  season  neutral playoff team1 team2   elo1_pre   elo2_pre  \\\n",
              "20170 1978-12-02    1979        0     NaN   NYK   POR  1479.9301  1512.0514   \n",
              "20171 1978-12-02    1979        0     NaN   PHI   SEA  1589.0641  1593.8909   \n",
              "20172 1978-12-02    1979        0     NaN   PHO   GSW  1571.8826  1524.8765   \n",
              "20173 1978-12-02    1979        0     NaN   SAS   DEN  1556.3341  1506.9819   \n",
              "20174 1978-12-02    1979        0     NaN   SDC   DET  1394.5913  1438.7286   \n",
              "\n",
              "       elo_prob1  elo_prob2   ...    carm-elo1_post  carm-elo2_post  \\\n",
              "20170   0.596461   0.403539   ...               NaN             NaN   \n",
              "20171   0.633639   0.366361   ...               NaN             NaN   \n",
              "20172   0.699777   0.300223   ...               NaN             NaN   \n",
              "20173   0.702606   0.297394   ...               NaN             NaN   \n",
              "20174   0.579707   0.420293   ...               NaN             NaN   \n",
              "\n",
              "       carm-elo_prob1  carm-elo_prob2  carmelo1_pre  carmelo2_pre  \\\n",
              "20170             NaN             NaN           NaN           NaN   \n",
              "20171             NaN             NaN           NaN           NaN   \n",
              "20172             NaN             NaN           NaN           NaN   \n",
              "20173             NaN             NaN           NaN           NaN   \n",
              "20174             NaN             NaN           NaN           NaN   \n",
              "\n",
              "       carmelo_prob1  carmelo_prob2  score1  score2  \n",
              "20170            NaN            NaN   111.0    77.0  \n",
              "20171            NaN            NaN    97.0   100.0  \n",
              "20172            NaN            NaN   108.0   116.0  \n",
              "20173            NaN            NaN    93.0   104.0  \n",
              "20174            NaN            NaN   113.0   120.0  \n",
              "\n",
              "[5 rows x 24 columns]"
            ]
          },
          "metadata": {
            "tags": []
          },
          "execution_count": 10
        }
      ]
    },
    {
      "metadata": {
        "id": "2K1pdq6CFfAY",
        "colab_type": "text"
      },
      "cell_type": "markdown",
      "source": [
        "####3. Explore Parse/Clean Data\n",
        "  * Determine what data is necessary and which is auxiliary\n",
        "  * Clean data - deal with empty cells/NaN\n",
        "    * need isna().sum() to analyze where NaNs are located\n",
        "   "
      ]
    },
    {
      "metadata": {
        "id": "U5G9cvx-FiUB",
        "colab_type": "code",
        "colab": {}
      },
      "cell_type": "code",
      "source": [
        "nba_data.isna().sum()"
      ],
      "execution_count": 0,
      "outputs": []
    },
    {
      "metadata": {
        "id": "J-nP2sCryijh",
        "colab_type": "code",
        "colab": {}
      },
      "cell_type": "code",
      "source": [
        "# Create a function to add highest elo win yes(1) or no(0)\n",
        "def f(row):\n",
        "    if (row['score1'] > row['score2']) & (row['elo1_pre'] > row['elo2_pre']):\n",
        "        val = 1\n",
        "    elif (row['score2'] > row['score1']) & (row['elo2_pre'] > row['elo1_pre']):\n",
        "        val = 1\n",
        "    else:\n",
        "        val = 0\n",
        "    return val"
      ],
      "execution_count": 0,
      "outputs": []
    },
    {
      "metadata": {
        "id": "Mn0Z9ort4ige",
        "colab_type": "code",
        "colab": {}
      },
      "cell_type": "code",
      "source": [
        "# Create a function to check if home team won\n",
        "def h(row):\n",
        "    if (row['score1'] > row['score2']):\n",
        "        val = 1\n",
        "    else:\n",
        "        val = 0\n",
        "    return val"
      ],
      "execution_count": 0,
      "outputs": []
    },
    {
      "metadata": {
        "id": "Tp_HiQae4-7b",
        "colab_type": "code",
        "colab": {}
      },
      "cell_type": "code",
      "source": [
        "# Create a function to check if home and higher elo team won\n",
        "def j(row):\n",
        "    if (row['score1'] > row['score2']) & (row['elo1_pre'] > row['elo2_pre']):\n",
        "        val = 1\n",
        "    else:\n",
        "        val = 0\n",
        "    return val"
      ],
      "execution_count": 0,
      "outputs": []
    },
    {
      "metadata": {
        "id": "Zihz2vvt3Y7E",
        "colab_type": "code",
        "colab": {}
      },
      "cell_type": "code",
      "source": [
        "nba_data['Elo_win'] = nba_data.apply(f, axis=1)"
      ],
      "execution_count": 0,
      "outputs": []
    },
    {
      "metadata": {
        "id": "IkGWx8bg-DLb",
        "colab_type": "code",
        "colab": {}
      },
      "cell_type": "code",
      "source": [
        "nba_data['home_win'] = nba_data.apply(h, axis=1)"
      ],
      "execution_count": 0,
      "outputs": []
    },
    {
      "metadata": {
        "id": "ft_RfXM_-Ll1",
        "colab_type": "code",
        "colab": {}
      },
      "cell_type": "code",
      "source": [
        "nba_data['home_elo'] = nba_data.apply(j, axis=1)"
      ],
      "execution_count": 0,
      "outputs": []
    },
    {
      "metadata": {
        "id": "9-XItG0k3N8z",
        "colab_type": "code",
        "colab": {
          "base_uri": "https://localhost:8080/",
          "height": 170
        },
        "outputId": "2b6fac99-fd98-43e0-f9e3-48666de08a75"
      },
      "cell_type": "code",
      "source": [
        "print(nba_data.Elo_win.value_counts())\n",
        "print(nba_data.home_win.value_counts())\n",
        "print(nba_data.home_elo.value_counts())\n",
        "\n"
      ],
      "execution_count": 117,
      "outputs": [
        {
          "output_type": "stream",
          "text": [
            "1    43407\n",
            "0    24917\n",
            "Name: Elo_win, dtype: int64\n",
            "1    41877\n",
            "0    26447\n",
            "Name: home_win, dtype: int64\n",
            "0    42561\n",
            "1    25763\n",
            "Name: home_elo, dtype: int64\n"
          ],
          "name": "stdout"
        }
      ]
    },
    {
      "metadata": {
        "id": "okLI3IoTFjMI",
        "colab_type": "text"
      },
      "cell_type": "markdown",
      "source": [
        "####4. Define essential data, Group data\n"
      ]
    },
    {
      "metadata": {
        "id": "eI-faQecFmZq",
        "colab_type": "code",
        "colab": {}
      },
      "cell_type": "code",
      "source": [
        "nba_years = nba_data.groupby"
      ],
      "execution_count": 0,
      "outputs": []
    },
    {
      "metadata": {
        "id": "ZPldXxw1Fm2W",
        "colab_type": "text"
      },
      "cell_type": "markdown",
      "source": [
        "####5. Data Viz"
      ]
    },
    {
      "metadata": {
        "id": "1Ur8dSYdFqOv",
        "colab_type": "code",
        "colab": {}
      },
      "cell_type": "code",
      "source": [
        "#see above\n"
      ],
      "execution_count": 0,
      "outputs": []
    },
    {
      "metadata": {
        "id": "Z8MlQkrGFqpj",
        "colab_type": "text"
      },
      "cell_type": "markdown",
      "source": [
        "####6. Build further models/algorithms"
      ]
    },
    {
      "metadata": {
        "id": "Xgj6_9SaFt1v",
        "colab_type": "code",
        "colab": {}
      },
      "cell_type": "code",
      "source": [
        ""
      ],
      "execution_count": 0,
      "outputs": []
    },
    {
      "metadata": {
        "id": "B_dsj6ShFuS8",
        "colab_type": "text"
      },
      "cell_type": "markdown",
      "source": [
        "####7. Feedback loop / Iterate"
      ]
    },
    {
      "metadata": {
        "id": "KroPquP8Fv03",
        "colab_type": "code",
        "colab": {}
      },
      "cell_type": "code",
      "source": [
        ""
      ],
      "execution_count": 0,
      "outputs": []
    }
  ]
}