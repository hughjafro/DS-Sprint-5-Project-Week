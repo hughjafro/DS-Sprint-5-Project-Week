{
  "nbformat": 4,
  "nbformat_minor": 0,
  "metadata": {
    "colab": {
      "name": "DS 151 Sprint Project.ipynb",
      "version": "0.3.2",
      "provenance": [],
      "collapsed_sections": [],
      "include_colab_link": true
    },
    "kernelspec": {
      "name": "python3",
      "display_name": "Python 3"
    },
    "accelerator": "GPU"
  },
  "cells": [
    {
      "cell_type": "markdown",
      "metadata": {
        "id": "view-in-github",
        "colab_type": "text"
      },
      "source": [
        "<a href=\"https://colab.research.google.com/github/hughjafro/DS-Sprint-5-Project-Week/blob/master/DS_151_Sprint_Project.ipynb\" target=\"_parent\"><img src=\"https://colab.research.google.com/assets/colab-badge.svg\" alt=\"Open In Colab\"/></a>"
      ]
    },
    {
      "metadata": {
        "id": "BbcPNJJUwR90",
        "colab_type": "code",
        "colab": {}
      },
      "cell_type": "code",
      "source": [
        ""
      ],
      "execution_count": 0,
      "outputs": []
    },
    {
      "metadata": {
        "id": "izktDEHgxIca",
        "colab_type": "text"
      },
      "cell_type": "markdown",
      "source": [
        "##Readme:\n",
        "\n",
        "####1. What is my hypothesis: That the team with a higher Elo should win more than 50% of the time\n",
        "\n",
        "**Background:**\n",
        "* NBA founded in 1946 as Basketball Association of America. Merged with National Basketball League and renamed NB Ain 1949.\n",
        "* Four (4) ABA teams added to NBA in 1977 \n",
        "* Modern era is considered 1998 to present - post-Jordan Bulls dominance.\n",
        "* [Timeline of NBA Teams](https://en.wikipedia.org/wiki/Timeline_of_the_National_Basketball_Association)\n",
        "\n",
        "####2. Add data from fivethirthyeight regarding Elo and CARM-ELO\n",
        "\n",
        "\n",
        "####3. Explore Parse/Clean Data\n",
        "  * Determine what data is necessary and which is auxiliary\n",
        "  * Clean data - deal with empty cells\n",
        "  * \n",
        "\n",
        "####4. Define essential data, Group data\n",
        "* Group by year, first, to analyze data by year, Then expand to multiple years\n",
        "  * Group by team to determine\n",
        "* Group by home team (team 1) / Away team (team 2)\n",
        "\n",
        "####5. Data Viz\n",
        "* Probably Seaborn, Plotly, Bokeh\n",
        "* Utilize line charts\n",
        "  * with colored area under the cover\n",
        "* Extend to Bokeh\n",
        "  * bar_pandas_groupby_nested\n",
        "  * ridgeplot\n",
        "  * **range_tool!!!!**\n",
        "\n",
        "####6. Build further models/algorithms\n",
        "* Stretch Goals\n",
        "    * Add hypothesis testing\n",
        "    * .rolling - Rolling Average ([Stack Overflow](https://stackoverflow.com/questions/49684734/dataframe-moving-average-with-rolling-mean-and-shift-while-ignoring-nan))\n",
        "\n",
        "####7. Feedback loop / Iterate\n",
        "\n",
        "\n",
        "####Notes:\n",
        "Explanation of Elo rating from [FiveThirtyEight](https://fivethirtyeight.com/features/how-we-calculate-nba-elo-ratings/)\n",
        "[CARM-ELO](https://projects.fivethirtyeight.com/carmelo/) (**C**areer-**a**rc **R**egression **M**odel **E**stimator with **L**ocal **O**ptimization ) explanation\n",
        "\n",
        "Special data that introduces specific stats. May later explain jumps/spikes in data results:\n",
        "\n",
        "*Seperated by years the new stat was introduced and tracked*\n",
        "\n",
        "| Pre-1971        | 1973-74           | 1977-80  |\n",
        "| ------------- |:-------------:| -----:|\n",
        "| Rebounds: 1950-51      | Steals: 1973-74 | Turnovers: 1977-78 |\n",
        "| Minutes: 1951-52      | Blocks: 1973-74     | 3-pt: 1979-80     \n",
        "| Started: 1970-71 | Off Rebounds: 1973-74     |     |\n",
        "|  | Def Rebounds: 1973-74      |     |\n",
        "\n",
        "*[Neutral site game](https://https://www.nba.com/global/games2013/all-time-international-game-list.html)* - There are a total of 30 neutral site games\n",
        "\n",
        "*[NBA stats FAQ](https://https://stats.nba.com/help/faq/)*\n",
        "\n",
        "*Total games from 11/1/1946 to 6/8/18* - 67094 (includes playoffs)\n",
        "\n"
      ]
    },
    {
      "metadata": {
        "id": "Q3oJr__mFON7",
        "colab_type": "text"
      },
      "cell_type": "markdown",
      "source": [
        "###1. Hypothesis"
      ]
    },
    {
      "metadata": {
        "id": "tbQozoFIFSDE",
        "colab_type": "code",
        "colab": {}
      },
      "cell_type": "code",
      "source": [
        ""
      ],
      "execution_count": 0,
      "outputs": []
    },
    {
      "metadata": {
        "id": "yTqzVEI4FS6p",
        "colab_type": "code",
        "colab": {}
      },
      "cell_type": "code",
      "source": [
        ""
      ],
      "execution_count": 0,
      "outputs": []
    },
    {
      "metadata": {
        "id": "QIgM7c3OFSmu",
        "colab_type": "text"
      },
      "cell_type": "markdown",
      "source": [
        "####2. Add data from fivethirthyeight regarding Elo and CARM-ELO"
      ]
    },
    {
      "metadata": {
        "id": "u5CT4lcaFeL7",
        "colab_type": "code",
        "colab": {}
      },
      "cell_type": "code",
      "source": [
        "# import all modules\n",
        "%matplotlib inline\n",
        "import numpy as np\n",
        "import pandas as pd\n",
        "import matplotlib.pyplot as plt"
      ],
      "execution_count": 0,
      "outputs": []
    },
    {
      "metadata": {
        "id": "gw17l4s6pAz-",
        "colab_type": "code",
        "colab": {}
      },
      "cell_type": "code",
      "source": [
        "#!pip install --upgrade seaborn"
      ],
      "execution_count": 0,
      "outputs": []
    },
    {
      "metadata": {
        "id": "QEbiVGAUoq63",
        "colab_type": "code",
        "colab": {}
      },
      "cell_type": "code",
      "source": [
        "#import seaborn seperately just in case version control issues occur\n",
        "import seaborn as sns"
      ],
      "execution_count": 0,
      "outputs": []
    },
    {
      "metadata": {
        "id": "iLtLy3Omo1st",
        "colab_type": "code",
        "outputId": "de01fcc5-7204-44e7-ac1d-f4abf188fe56",
        "colab": {
          "base_uri": "https://localhost:8080/",
          "height": 34
        }
      },
      "cell_type": "code",
      "source": [
        "sns.__version__"
      ],
      "execution_count": 6,
      "outputs": [
        {
          "output_type": "execute_result",
          "data": {
            "text/plain": [
              "'0.9.0'"
            ]
          },
          "metadata": {
            "tags": []
          },
          "execution_count": 6
        }
      ]
    },
    {
      "metadata": {
        "id": "noaCG_5sGLq0",
        "colab_type": "code",
        "outputId": "73549ee7-376b-44c6-d6a5-134ca5436bb0",
        "colab": {
          "base_uri": "https://localhost:8080/",
          "height": 351
        }
      },
      "cell_type": "code",
      "source": [
        "# Data source: FiveThirthyEight\n",
        "url = 'https://projects.fivethirtyeight.com/nba-model/nba_elo.csv'\n",
        "\n",
        "# Import dataset from assigned url\n",
        "nba_data = pd.read_csv(url)\n",
        "\n",
        "#Convert date column to datetime format\n",
        "nba_data['date'] = pd.to_datetime(nba_data['date']) \n",
        "\n",
        "# Look at the rows/columns and general statistical data\n",
        "print(nba_data.shape)\n",
        "\n",
        "nba_data.describe()"
      ],
      "execution_count": 10,
      "outputs": [
        {
          "output_type": "stream",
          "text": [
            "(68324, 24)\n"
          ],
          "name": "stdout"
        },
        {
          "output_type": "execute_result",
          "data": {
            "text/html": [
              "<div>\n",
              "<style scoped>\n",
              "    .dataframe tbody tr th:only-of-type {\n",
              "        vertical-align: middle;\n",
              "    }\n",
              "\n",
              "    .dataframe tbody tr th {\n",
              "        vertical-align: top;\n",
              "    }\n",
              "\n",
              "    .dataframe thead th {\n",
              "        text-align: right;\n",
              "    }\n",
              "</style>\n",
              "<table border=\"1\" class=\"dataframe\">\n",
              "  <thead>\n",
              "    <tr style=\"text-align: right;\">\n",
              "      <th></th>\n",
              "      <th>season</th>\n",
              "      <th>neutral</th>\n",
              "      <th>elo1_pre</th>\n",
              "      <th>elo2_pre</th>\n",
              "      <th>elo_prob1</th>\n",
              "      <th>elo_prob2</th>\n",
              "      <th>elo1_post</th>\n",
              "      <th>elo2_post</th>\n",
              "      <th>carm-elo1_pre</th>\n",
              "      <th>carm-elo2_pre</th>\n",
              "      <th>carm-elo1_post</th>\n",
              "      <th>carm-elo2_post</th>\n",
              "      <th>carm-elo_prob1</th>\n",
              "      <th>carm-elo_prob2</th>\n",
              "      <th>carmelo1_pre</th>\n",
              "      <th>carmelo2_pre</th>\n",
              "      <th>carmelo_prob1</th>\n",
              "      <th>carmelo_prob2</th>\n",
              "      <th>score1</th>\n",
              "      <th>score2</th>\n",
              "    </tr>\n",
              "  </thead>\n",
              "  <tbody>\n",
              "    <tr>\n",
              "      <th>count</th>\n",
              "      <td>68324.000000</td>\n",
              "      <td>68324.000000</td>\n",
              "      <td>68324.000000</td>\n",
              "      <td>68324.000000</td>\n",
              "      <td>68324.000000</td>\n",
              "      <td>68324.000000</td>\n",
              "      <td>67513.000000</td>\n",
              "      <td>67513.000000</td>\n",
              "      <td>5167.000000</td>\n",
              "      <td>5167.000000</td>\n",
              "      <td>4356.000000</td>\n",
              "      <td>4356.000000</td>\n",
              "      <td>5167.000000</td>\n",
              "      <td>5167.000000</td>\n",
              "      <td>1230.000000</td>\n",
              "      <td>1230.000000</td>\n",
              "      <td>1230.000000</td>\n",
              "      <td>1230.000000</td>\n",
              "      <td>67513.000000</td>\n",
              "      <td>67513.000000</td>\n",
              "    </tr>\n",
              "    <tr>\n",
              "      <th>mean</th>\n",
              "      <td>1990.414291</td>\n",
              "      <td>0.000439</td>\n",
              "      <td>1496.288016</td>\n",
              "      <td>1496.531512</td>\n",
              "      <td>0.621179</td>\n",
              "      <td>0.378821</td>\n",
              "      <td>1496.136852</td>\n",
              "      <td>1496.476494</td>\n",
              "      <td>1512.575773</td>\n",
              "      <td>1510.894765</td>\n",
              "      <td>1512.382461</td>\n",
              "      <td>1512.510714</td>\n",
              "      <td>0.626522</td>\n",
              "      <td>0.373478</td>\n",
              "      <td>1515.466160</td>\n",
              "      <td>1515.333991</td>\n",
              "      <td>0.620808</td>\n",
              "      <td>0.379192</td>\n",
              "      <td>104.736984</td>\n",
              "      <td>101.052360</td>\n",
              "    </tr>\n",
              "    <tr>\n",
              "      <th>std</th>\n",
              "      <td>18.594788</td>\n",
              "      <td>0.020950</td>\n",
              "      <td>112.324567</td>\n",
              "      <td>111.759812</td>\n",
              "      <td>0.178141</td>\n",
              "      <td>0.178141</td>\n",
              "      <td>112.904855</td>\n",
              "      <td>112.062393</td>\n",
              "      <td>117.272056</td>\n",
              "      <td>116.854678</td>\n",
              "      <td>119.046575</td>\n",
              "      <td>118.107722</td>\n",
              "      <td>0.191837</td>\n",
              "      <td>0.191837</td>\n",
              "      <td>117.445424</td>\n",
              "      <td>117.261087</td>\n",
              "      <td>0.200485</td>\n",
              "      <td>0.200485</td>\n",
              "      <td>14.833883</td>\n",
              "      <td>14.283531</td>\n",
              "    </tr>\n",
              "    <tr>\n",
              "      <th>min</th>\n",
              "      <td>1947.000000</td>\n",
              "      <td>0.000000</td>\n",
              "      <td>1105.617800</td>\n",
              "      <td>1091.644500</td>\n",
              "      <td>0.062616</td>\n",
              "      <td>0.018315</td>\n",
              "      <td>1100.291900</td>\n",
              "      <td>1085.774400</td>\n",
              "      <td>1187.730784</td>\n",
              "      <td>1192.842155</td>\n",
              "      <td>1187.730784</td>\n",
              "      <td>1192.004524</td>\n",
              "      <td>0.060474</td>\n",
              "      <td>0.013407</td>\n",
              "      <td>1281.328778</td>\n",
              "      <td>1276.551561</td>\n",
              "      <td>0.120228</td>\n",
              "      <td>0.038478</td>\n",
              "      <td>2.000000</td>\n",
              "      <td>0.000000</td>\n",
              "    </tr>\n",
              "    <tr>\n",
              "      <th>25%</th>\n",
              "      <td>1976.000000</td>\n",
              "      <td>0.000000</td>\n",
              "      <td>1418.910550</td>\n",
              "      <td>1419.052850</td>\n",
              "      <td>0.498848</td>\n",
              "      <td>0.240510</td>\n",
              "      <td>1417.841700</td>\n",
              "      <td>1418.807900</td>\n",
              "      <td>1438.930652</td>\n",
              "      <td>1438.193630</td>\n",
              "      <td>1434.249496</td>\n",
              "      <td>1435.686432</td>\n",
              "      <td>0.494466</td>\n",
              "      <td>0.219772</td>\n",
              "      <td>1437.271517</td>\n",
              "      <td>1437.271517</td>\n",
              "      <td>0.467834</td>\n",
              "      <td>0.210584</td>\n",
              "      <td>95.000000</td>\n",
              "      <td>92.000000</td>\n",
              "    </tr>\n",
              "    <tr>\n",
              "      <th>50%</th>\n",
              "      <td>1992.000000</td>\n",
              "      <td>0.000000</td>\n",
              "      <td>1501.683749</td>\n",
              "      <td>1502.847900</td>\n",
              "      <td>0.640018</td>\n",
              "      <td>0.359982</td>\n",
              "      <td>1501.540900</td>\n",
              "      <td>1502.436000</td>\n",
              "      <td>1510.130092</td>\n",
              "      <td>1510.017503</td>\n",
              "      <td>1510.308068</td>\n",
              "      <td>1512.149768</td>\n",
              "      <td>0.652341</td>\n",
              "      <td>0.347659</td>\n",
              "      <td>1519.041607</td>\n",
              "      <td>1519.041607</td>\n",
              "      <td>0.646761</td>\n",
              "      <td>0.353239</td>\n",
              "      <td>105.000000</td>\n",
              "      <td>101.000000</td>\n",
              "    </tr>\n",
              "    <tr>\n",
              "      <th>75%</th>\n",
              "      <td>2006.000000</td>\n",
              "      <td>0.000000</td>\n",
              "      <td>1576.590325</td>\n",
              "      <td>1576.036450</td>\n",
              "      <td>0.759490</td>\n",
              "      <td>0.501152</td>\n",
              "      <td>1576.694200</td>\n",
              "      <td>1576.254200</td>\n",
              "      <td>1587.273733</td>\n",
              "      <td>1584.419717</td>\n",
              "      <td>1585.665584</td>\n",
              "      <td>1583.582698</td>\n",
              "      <td>0.780228</td>\n",
              "      <td>0.505534</td>\n",
              "      <td>1609.128145</td>\n",
              "      <td>1609.128145</td>\n",
              "      <td>0.789416</td>\n",
              "      <td>0.532166</td>\n",
              "      <td>114.000000</td>\n",
              "      <td>110.000000</td>\n",
              "    </tr>\n",
              "    <tr>\n",
              "      <th>max</th>\n",
              "      <td>2019.000000</td>\n",
              "      <td>1.000000</td>\n",
              "      <td>1855.779115</td>\n",
              "      <td>1865.449075</td>\n",
              "      <td>0.981685</td>\n",
              "      <td>0.937384</td>\n",
              "      <td>1860.313175</td>\n",
              "      <td>1865.449075</td>\n",
              "      <td>1872.690559</td>\n",
              "      <td>1881.619599</td>\n",
              "      <td>1876.930941</td>\n",
              "      <td>1881.619599</td>\n",
              "      <td>0.986593</td>\n",
              "      <td>0.939526</td>\n",
              "      <td>1765.838659</td>\n",
              "      <td>1767.243578</td>\n",
              "      <td>0.961522</td>\n",
              "      <td>0.879772</td>\n",
              "      <td>184.000000</td>\n",
              "      <td>186.000000</td>\n",
              "    </tr>\n",
              "  </tbody>\n",
              "</table>\n",
              "</div>"
            ],
            "text/plain": [
              "             season       neutral      elo1_pre      elo2_pre     elo_prob1  \\\n",
              "count  68324.000000  68324.000000  68324.000000  68324.000000  68324.000000   \n",
              "mean    1990.414291      0.000439   1496.288016   1496.531512      0.621179   \n",
              "std       18.594788      0.020950    112.324567    111.759812      0.178141   \n",
              "min     1947.000000      0.000000   1105.617800   1091.644500      0.062616   \n",
              "25%     1976.000000      0.000000   1418.910550   1419.052850      0.498848   \n",
              "50%     1992.000000      0.000000   1501.683749   1502.847900      0.640018   \n",
              "75%     2006.000000      0.000000   1576.590325   1576.036450      0.759490   \n",
              "max     2019.000000      1.000000   1855.779115   1865.449075      0.981685   \n",
              "\n",
              "          elo_prob2     elo1_post     elo2_post  carm-elo1_pre  carm-elo2_pre  \\\n",
              "count  68324.000000  67513.000000  67513.000000    5167.000000    5167.000000   \n",
              "mean       0.378821   1496.136852   1496.476494    1512.575773    1510.894765   \n",
              "std        0.178141    112.904855    112.062393     117.272056     116.854678   \n",
              "min        0.018315   1100.291900   1085.774400    1187.730784    1192.842155   \n",
              "25%        0.240510   1417.841700   1418.807900    1438.930652    1438.193630   \n",
              "50%        0.359982   1501.540900   1502.436000    1510.130092    1510.017503   \n",
              "75%        0.501152   1576.694200   1576.254200    1587.273733    1584.419717   \n",
              "max        0.937384   1860.313175   1865.449075    1872.690559    1881.619599   \n",
              "\n",
              "       carm-elo1_post  carm-elo2_post  carm-elo_prob1  carm-elo_prob2  \\\n",
              "count     4356.000000     4356.000000     5167.000000     5167.000000   \n",
              "mean      1512.382461     1512.510714        0.626522        0.373478   \n",
              "std        119.046575      118.107722        0.191837        0.191837   \n",
              "min       1187.730784     1192.004524        0.060474        0.013407   \n",
              "25%       1434.249496     1435.686432        0.494466        0.219772   \n",
              "50%       1510.308068     1512.149768        0.652341        0.347659   \n",
              "75%       1585.665584     1583.582698        0.780228        0.505534   \n",
              "max       1876.930941     1881.619599        0.986593        0.939526   \n",
              "\n",
              "       carmelo1_pre  carmelo2_pre  carmelo_prob1  carmelo_prob2        score1  \\\n",
              "count   1230.000000   1230.000000    1230.000000    1230.000000  67513.000000   \n",
              "mean    1515.466160   1515.333991       0.620808       0.379192    104.736984   \n",
              "std      117.445424    117.261087       0.200485       0.200485     14.833883   \n",
              "min     1281.328778   1276.551561       0.120228       0.038478      2.000000   \n",
              "25%     1437.271517   1437.271517       0.467834       0.210584     95.000000   \n",
              "50%     1519.041607   1519.041607       0.646761       0.353239    105.000000   \n",
              "75%     1609.128145   1609.128145       0.789416       0.532166    114.000000   \n",
              "max     1765.838659   1767.243578       0.961522       0.879772    184.000000   \n",
              "\n",
              "             score2  \n",
              "count  67513.000000  \n",
              "mean     101.052360  \n",
              "std       14.283531  \n",
              "min        0.000000  \n",
              "25%       92.000000  \n",
              "50%      101.000000  \n",
              "75%      110.000000  \n",
              "max      186.000000  "
            ]
          },
          "metadata": {
            "tags": []
          },
          "execution_count": 10
        }
      ]
    },
    {
      "metadata": {
        "id": "wekFl1pMqhWS",
        "colab_type": "code",
        "colab": {
          "base_uri": "https://localhost:8080/",
          "height": 119
        },
        "outputId": "8ceab23c-ff09-4cc5-f4db-582bccd3e8ae"
      },
      "cell_type": "code",
      "source": [
        "# May need to use averages for 2018 season\n",
        "print(\"2018 - Home team mean score: \", nba_data[nba_data['season'] == 2018]['score1'].mean())\n",
        "print(\"2018 - Away team mean score: \", nba_data[nba_data['season'] == 2018]['score2'].mean())\n",
        "print(\"2018 - Home team before game Elo mean score: \", nba_data[nba_data['season'] == 2018]['elo1_pre'].mean())\n",
        "print(\"2018 - Home team after game Elo mean score: \", nba_data[nba_data['season'] == 2018]['elo1_post'].mean())\n",
        "print(\"2018 - Away team before game Elo mean score: \", nba_data[nba_data['season'] == 2018]['elo2_pre'].mean())\n",
        "print(\"2018 - Away team before game Elo mean score: \", nba_data[nba_data['season'] == 2018]['elo2_post'].mean())"
      ],
      "execution_count": 11,
      "outputs": [
        {
          "output_type": "stream",
          "text": [
            "2018 - Home team mean score:  107.3986280487805\n",
            "2018 - Away team mean score:  105.03201219512195\n",
            "2018 - Home team before game Elo mean score:  1513.7851224779074\n",
            "2018 - Home team after game Elo mean score:  1512.5584547900144\n",
            "2018 - Away team before game Elo mean score:  1510.397317398021\n",
            "2018 - Away team before game Elo mean score:  1511.623985085914\n"
          ],
          "name": "stdout"
        }
      ]
    },
    {
      "metadata": {
        "id": "8hgDaVKyrq1j",
        "colab_type": "text"
      },
      "cell_type": "markdown",
      "source": [
        "Why does the away team's Elo rating rise, on average, after the game? Looks like the away team in 2018 season won more than the home team?!?"
      ]
    },
    {
      "metadata": {
        "id": "3lKczq7stY9q",
        "colab_type": "code",
        "colab": {}
      },
      "cell_type": "code",
      "source": [
        "# Set the means of the main categories to variables for future use\n",
        "nba_hscore_mean = nba_data[nba_data['season'] == 2018]['score1'].mean()\n",
        "nba_ascore_mean = nba_data[nba_data['season'] == 2018]['score2'].mean()\n",
        "nba_elo1pre_mean = nba_data[nba_data['season'] == 2018]['elo1_pre'].mean()\n",
        "nba_elo1post_mean = nba_data[nba_data['season'] == 2018]['elo1_post'].mean()\n",
        "nba_elo2pre_mean = nba_data[nba_data['season'] == 2018]['elo2_pre'].mean()\n",
        "nba_elo2post_mean = nba_data[nba_data['season'] == 2018]['elo2_post'].mean()"
      ],
      "execution_count": 0,
      "outputs": []
    },
    {
      "metadata": {
        "id": "qGmyf_gAufVL",
        "colab_type": "code",
        "colab": {}
      },
      "cell_type": "code",
      "source": [
        "# Moving average of Home Team pre-game Elo rating\n",
        "nba_rolling_elo1pre = nba_data.elo1_pre.rolling(window=2).mean()\n",
        "nba_rolling_elo1pre"
      ],
      "execution_count": 0,
      "outputs": []
    },
    {
      "metadata": {
        "id": "Fsn_jHenm-uX",
        "colab_type": "code",
        "colab": {
          "base_uri": "https://localhost:8080/",
          "height": 164
        },
        "outputId": "885e0fe8-c22e-4b7a-9308-dbb4940b0d2c"
      },
      "cell_type": "code",
      "source": [
        "help(plt.plot)"
      ],
      "execution_count": 2,
      "outputs": [
        {
          "output_type": "error",
          "ename": "NameError",
          "evalue": "ignored",
          "traceback": [
            "\u001b[0;31m---------------------------------------------------------------------------\u001b[0m",
            "\u001b[0;31mNameError\u001b[0m                                 Traceback (most recent call last)",
            "\u001b[0;32m<ipython-input-2-4d5df1c1cf2f>\u001b[0m in \u001b[0;36m<module>\u001b[0;34m()\u001b[0m\n\u001b[0;32m----> 1\u001b[0;31m \u001b[0mhelp\u001b[0m\u001b[0;34m(\u001b[0m\u001b[0mplt\u001b[0m\u001b[0;34m.\u001b[0m\u001b[0mplot\u001b[0m\u001b[0;34m)\u001b[0m\u001b[0;34m\u001b[0m\u001b[0;34m\u001b[0m\u001b[0m\n\u001b[0m",
            "\u001b[0;31mNameError\u001b[0m: name 'plt' is not defined"
          ]
        }
      ]
    },
    {
      "metadata": {
        "id": "CI2ouwhAvhup",
        "colab_type": "code",
        "colab": {
          "base_uri": "https://localhost:8080/",
          "height": 295
        },
        "outputId": "5b5a6412-57de-46d8-ec44-7890625e5202"
      },
      "cell_type": "code",
      "source": [
        "plt.plot(nba_data.date, nba_data.elo1_pre, color='green', marker='o', markersize=1.5, linestyle='solid');\n",
        "plt.xlabel('Season')\n",
        "plt.ylabel('Pregame Elo')\n",
        "plt.title('Pregame Elo Rating of Home Team');\n"
      ],
      "execution_count": 17,
      "outputs": [
        {
          "output_type": "display_data",
          "data": {
            "image/png": "[encoded data removed]",
            "text/plain": [
              "<matplotlib.figure.Figure at 0x7fa1714e79b0>"
            ]
          },
          "metadata": {
            "tags": []
          }
        }
      ]
    },
    {
      "metadata": {
        "id": "0K_pemsrpwA7",
        "colab_type": "code",
        "colab": {
          "base_uri": "https://localhost:8080/",
          "height": 1071
        },
        "outputId": "517d2197-ab44-417b-cdab-e332b579260c"
      },
      "cell_type": "code",
      "source": [
        "# Moving average of Home Team pre-game Elo rating\n",
        "nba_rolling_elo2pre = nba_data.elo2_pre.rolling(window=2).mean()\n",
        "nba_rolling_elo2pre"
      ],
      "execution_count": 18,
      "outputs": [
        {
          "output_type": "execute_result",
          "data": {
            "text/plain": [
              "0                NaN\n",
              "1        1303.361650\n",
              "2        1303.361650\n",
              "3        1300.000000\n",
              "4        1300.000000\n",
              "5        1296.638350\n",
              "6        1306.828900\n",
              "7        1315.016600\n",
              "8        1307.171450\n",
              "9        1291.318200\n",
              "10       1297.014800\n",
              "11       1306.577600\n",
              "12       1284.266800\n",
              "13       1272.370500\n",
              "14       1305.511700\n",
              "15       1313.456950\n",
              "16       1288.791500\n",
              "17       1311.512550\n",
              "18       1324.931700\n",
              "19       1316.283250\n",
              "20       1296.295500\n",
              "21       1291.249850\n",
              "22       1313.927050\n",
              "23       1295.258600\n",
              "24       1291.664850\n",
              "25       1304.099500\n",
              "26       1305.695500\n",
              "27       1297.097150\n",
              "28       1276.461050\n",
              "29       1298.233400\n",
              "            ...     \n",
              "68294    1404.760818\n",
              "68295    1370.574560\n",
              "68296    1436.007813\n",
              "68297    1359.366284\n",
              "68298    1390.357957\n",
              "68299    1533.947215\n",
              "68300    1580.265067\n",
              "68301    1581.647751\n",
              "68302    1517.761243\n",
              "68303    1496.750735\n",
              "68304    1569.382319\n",
              "68305    1601.535531\n",
              "68306    1604.946380\n",
              "68307    1652.690337\n",
              "68308    1519.621202\n",
              "68309    1315.762599\n",
              "68310    1436.675808\n",
              "68311    1585.235177\n",
              "68312    1554.907094\n",
              "68313    1583.547249\n",
              "68314    1456.661295\n",
              "68315    1376.439410\n",
              "68316    1545.809373\n",
              "68317    1559.659520\n",
              "68318    1457.940542\n",
              "68319    1515.726564\n",
              "68320    1536.959658\n",
              "68321    1493.655561\n",
              "68322    1506.059643\n",
              "68323    1525.721873\n",
              "Name: elo2_pre, Length: 68324, dtype: float64"
            ]
          },
          "metadata": {
            "tags": []
          },
          "execution_count": 18
        }
      ]
    },
    {
      "metadata": {
        "id": "lFqVPrv5wfq7",
        "colab_type": "code",
        "colab": {
          "base_uri": "https://localhost:8080/",
          "height": 295
        },
        "outputId": "7299885d-694d-47c1-f9fc-f35bd9db2b4b"
      },
      "cell_type": "code",
      "source": [
        "#plt.plot(nba_data.date, nba_data.elo1_pre, color='green', marker='o', markersize=1.5, linestyle='solid', alpha=.6);\n",
        "plt.plot(nba_data.date, nba_rolling_elo2pre, color='orange', marker='x', markersize=1.5, linestyle='solid');\n",
        "plt.xlabel('Season')\n",
        "plt.ylabel('Pregame Elo')\n",
        "plt.title('Pregame Elo Rating of Away Team');"
      ],
      "execution_count": 41,
      "outputs": [
        {
          "output_type": "display_data",
          "data": {
            "image/png": "[encoded data removed]",
            "text/plain": [
              "<matplotlib.figure.Figure at 0x7fa16cfc0be0>"
            ]
          },
          "metadata": {
            "tags": []
          }
        }
      ]
    },
    {
      "metadata": {
        "id": "4ysGyueAvEI1",
        "colab_type": "code",
        "colab": {}
      },
      "cell_type": "code",
      "source": [
        "# Moving average of Away Team pre-game Elo rating\n",
        "nba_rolling_elo2pre = nba_data.elo2_pre.rolling(window=2).mean()\n",
        "nba_rolling_elo2pre"
      ],
      "execution_count": 0,
      "outputs": []
    },
    {
      "metadata": {
        "id": "v_E0_DZKZxr-",
        "colab_type": "code",
        "colab": {
          "base_uri": "https://localhost:8080/",
          "height": 295
        },
        "outputId": "ec2de5ae-f038-4bb3-b6ea-a669fa7e86e8"
      },
      "cell_type": "code",
      "source": [
        "# make a scatterplot\n",
        "#sns.lmplot(x='score1', y='elo1_post', c='season', cmap='plasma', data=nba_data);\n",
        "plt.scatter(nba_data['score1'], nba_data['elo1_post'], c=nba_data['season'], cmap='plasma')\n",
        "plt.xlabel('Team 1 Score')\n",
        "plt.ylabel('Post Game Elo Team1')\n",
        "plt.title('Elo vs Score')\n",
        "plt.colorbar().set_label('Season')"
      ],
      "execution_count": 26,
      "outputs": [
        {
          "output_type": "display_data",
          "data": {
            "image/png": "[encoded data removed]",
            "text/plain": [
              "<matplotlib.figure.Figure at 0x7fa171311a58>"
            ]
          },
          "metadata": {
            "tags": []
          }
        }
      ]
    },
    {
      "metadata": {
        "id": "KEHrxKAbqS-l",
        "colab_type": "code",
        "colab": {}
      },
      "cell_type": "code",
      "source": [
        "plt.plot( 'x', 'y', data=df, linestyle='', marker='o', markersize=0.7)\n",
        "plt.xlabel('Value of X')\n",
        "plt.ylabel('Value of Y')\n",
        "plt.title('Overplotting? Try to reduce the dot size', loc='left')"
      ],
      "execution_count": 0,
      "outputs": []
    },
    {
      "metadata": {
        "id": "OVekSmdDtLyn",
        "colab_type": "text"
      },
      "cell_type": "markdown",
      "source": [
        "##2018 Season Only"
      ]
    },
    {
      "metadata": {
        "id": "EnOH6UMyyVBM",
        "colab_type": "code",
        "colab": {
          "base_uri": "https://localhost:8080/",
          "height": 34
        },
        "outputId": "0e8e27b3-2a3f-4ec6-e6ea-9da5f6305084"
      },
      "cell_type": "code",
      "source": [
        "# Work with 2017-2018 values first\n",
        "nba_2018 = nba_data.iloc[65783:67094]\n",
        "print(nba_2018.shape) # Shows 1311 total games "
      ],
      "execution_count": 28,
      "outputs": [
        {
          "output_type": "stream",
          "text": [
            "(1311, 24)\n"
          ],
          "name": "stdout"
        }
      ]
    },
    {
      "metadata": {
        "id": "COMxqwlIOBH0",
        "colab_type": "code",
        "colab": {
          "base_uri": "https://localhost:8080/",
          "height": 334
        },
        "outputId": "9654a913-118f-441f-a0ef-110532499fb2"
      },
      "cell_type": "code",
      "source": [
        "nba_2018.describe()"
      ],
      "execution_count": 29,
      "outputs": [
        {
          "output_type": "execute_result",
          "data": {
            "text/html": [
              "<div>\n",
              "<style scoped>\n",
              "    .dataframe tbody tr th:only-of-type {\n",
              "        vertical-align: middle;\n",
              "    }\n",
              "\n",
              "    .dataframe tbody tr th {\n",
              "        vertical-align: top;\n",
              "    }\n",
              "\n",
              "    .dataframe thead th {\n",
              "        text-align: right;\n",
              "    }\n",
              "</style>\n",
              "<table border=\"1\" class=\"dataframe\">\n",
              "  <thead>\n",
              "    <tr style=\"text-align: right;\">\n",
              "      <th></th>\n",
              "      <th>season</th>\n",
              "      <th>neutral</th>\n",
              "      <th>elo1_pre</th>\n",
              "      <th>elo2_pre</th>\n",
              "      <th>elo_prob1</th>\n",
              "      <th>elo_prob2</th>\n",
              "      <th>elo1_post</th>\n",
              "      <th>elo2_post</th>\n",
              "      <th>carm-elo1_pre</th>\n",
              "      <th>carm-elo2_pre</th>\n",
              "      <th>carm-elo1_post</th>\n",
              "      <th>carm-elo2_post</th>\n",
              "      <th>carm-elo_prob1</th>\n",
              "      <th>carm-elo_prob2</th>\n",
              "      <th>carmelo1_pre</th>\n",
              "      <th>carmelo2_pre</th>\n",
              "      <th>carmelo_prob1</th>\n",
              "      <th>carmelo_prob2</th>\n",
              "      <th>score1</th>\n",
              "      <th>score2</th>\n",
              "    </tr>\n",
              "  </thead>\n",
              "  <tbody>\n",
              "    <tr>\n",
              "      <th>count</th>\n",
              "      <td>1311.0</td>\n",
              "      <td>1311.000000</td>\n",
              "      <td>1311.000000</td>\n",
              "      <td>1311.000000</td>\n",
              "      <td>1311.000000</td>\n",
              "      <td>1311.000000</td>\n",
              "      <td>1311.000000</td>\n",
              "      <td>1311.000000</td>\n",
              "      <td>1311.000000</td>\n",
              "      <td>1311.000000</td>\n",
              "      <td>1311.000000</td>\n",
              "      <td>1311.000000</td>\n",
              "      <td>1311.000000</td>\n",
              "      <td>1311.000000</td>\n",
              "      <td>0.0</td>\n",
              "      <td>0.0</td>\n",
              "      <td>0.0</td>\n",
              "      <td>0.0</td>\n",
              "      <td>1311.000000</td>\n",
              "      <td>1311.000000</td>\n",
              "    </tr>\n",
              "    <tr>\n",
              "      <th>mean</th>\n",
              "      <td>2018.0</td>\n",
              "      <td>0.002288</td>\n",
              "      <td>1513.682754</td>\n",
              "      <td>1510.380481</td>\n",
              "      <td>0.626229</td>\n",
              "      <td>0.373771</td>\n",
              "      <td>1512.453519</td>\n",
              "      <td>1511.609716</td>\n",
              "      <td>1514.359148</td>\n",
              "      <td>1510.653706</td>\n",
              "      <td>1513.019929</td>\n",
              "      <td>1511.992926</td>\n",
              "      <td>0.629897</td>\n",
              "      <td>0.370103</td>\n",
              "      <td>NaN</td>\n",
              "      <td>NaN</td>\n",
              "      <td>NaN</td>\n",
              "      <td>NaN</td>\n",
              "      <td>107.402746</td>\n",
              "      <td>105.036613</td>\n",
              "    </tr>\n",
              "    <tr>\n",
              "      <th>std</th>\n",
              "      <td>0.0</td>\n",
              "      <td>0.047800</td>\n",
              "      <td>103.347627</td>\n",
              "      <td>102.316759</td>\n",
              "      <td>0.169970</td>\n",
              "      <td>0.169970</td>\n",
              "      <td>104.032593</td>\n",
              "      <td>102.486433</td>\n",
              "      <td>111.614533</td>\n",
              "      <td>110.837548</td>\n",
              "      <td>112.080616</td>\n",
              "      <td>110.871314</td>\n",
              "      <td>0.184456</td>\n",
              "      <td>0.184456</td>\n",
              "      <td>NaN</td>\n",
              "      <td>NaN</td>\n",
              "      <td>NaN</td>\n",
              "      <td>NaN</td>\n",
              "      <td>11.785142</td>\n",
              "      <td>12.181585</td>\n",
              "    </tr>\n",
              "    <tr>\n",
              "      <th>min</th>\n",
              "      <td>2018.0</td>\n",
              "      <td>0.000000</td>\n",
              "      <td>1239.700051</td>\n",
              "      <td>1234.893462</td>\n",
              "      <td>0.130274</td>\n",
              "      <td>0.023170</td>\n",
              "      <td>1234.893462</td>\n",
              "      <td>1241.054785</td>\n",
              "      <td>1237.320796</td>\n",
              "      <td>1231.264173</td>\n",
              "      <td>1231.264173</td>\n",
              "      <td>1238.607083</td>\n",
              "      <td>0.138616</td>\n",
              "      <td>0.020955</td>\n",
              "      <td>NaN</td>\n",
              "      <td>NaN</td>\n",
              "      <td>NaN</td>\n",
              "      <td>NaN</td>\n",
              "      <td>69.000000</td>\n",
              "      <td>69.000000</td>\n",
              "    </tr>\n",
              "    <tr>\n",
              "      <th>25%</th>\n",
              "      <td>2018.0</td>\n",
              "      <td>0.000000</td>\n",
              "      <td>1434.647434</td>\n",
              "      <td>1434.352060</td>\n",
              "      <td>0.510840</td>\n",
              "      <td>0.247216</td>\n",
              "      <td>1433.860534</td>\n",
              "      <td>1434.201674</td>\n",
              "      <td>1425.807329</td>\n",
              "      <td>1429.520428</td>\n",
              "      <td>1426.422943</td>\n",
              "      <td>1429.335433</td>\n",
              "      <td>0.494722</td>\n",
              "      <td>0.222455</td>\n",
              "      <td>NaN</td>\n",
              "      <td>NaN</td>\n",
              "      <td>NaN</td>\n",
              "      <td>NaN</td>\n",
              "      <td>99.000000</td>\n",
              "      <td>97.000000</td>\n",
              "    </tr>\n",
              "    <tr>\n",
              "      <th>50%</th>\n",
              "      <td>2018.0</td>\n",
              "      <td>0.000000</td>\n",
              "      <td>1520.010593</td>\n",
              "      <td>1518.426493</td>\n",
              "      <td>0.645209</td>\n",
              "      <td>0.354791</td>\n",
              "      <td>1519.319437</td>\n",
              "      <td>1519.295523</td>\n",
              "      <td>1522.272959</td>\n",
              "      <td>1518.925182</td>\n",
              "      <td>1521.420664</td>\n",
              "      <td>1518.419997</td>\n",
              "      <td>0.656232</td>\n",
              "      <td>0.343768</td>\n",
              "      <td>NaN</td>\n",
              "      <td>NaN</td>\n",
              "      <td>NaN</td>\n",
              "      <td>NaN</td>\n",
              "      <td>107.000000</td>\n",
              "      <td>105.000000</td>\n",
              "    </tr>\n",
              "    <tr>\n",
              "      <th>75%</th>\n",
              "      <td>2018.0</td>\n",
              "      <td>0.000000</td>\n",
              "      <td>1576.995591</td>\n",
              "      <td>1572.551823</td>\n",
              "      <td>0.752784</td>\n",
              "      <td>0.489160</td>\n",
              "      <td>1575.915869</td>\n",
              "      <td>1575.338562</td>\n",
              "      <td>1585.334975</td>\n",
              "      <td>1583.664565</td>\n",
              "      <td>1584.255087</td>\n",
              "      <td>1584.698902</td>\n",
              "      <td>0.777545</td>\n",
              "      <td>0.505278</td>\n",
              "      <td>NaN</td>\n",
              "      <td>NaN</td>\n",
              "      <td>NaN</td>\n",
              "      <td>NaN</td>\n",
              "      <td>115.000000</td>\n",
              "      <td>113.000000</td>\n",
              "    </tr>\n",
              "    <tr>\n",
              "      <th>max</th>\n",
              "      <td>2018.0</td>\n",
              "      <td>1.000000</td>\n",
              "      <td>1792.149932</td>\n",
              "      <td>1792.273162</td>\n",
              "      <td>0.976830</td>\n",
              "      <td>0.869726</td>\n",
              "      <td>1792.273162</td>\n",
              "      <td>1785.562518</td>\n",
              "      <td>1808.969488</td>\n",
              "      <td>1809.079898</td>\n",
              "      <td>1809.079898</td>\n",
              "      <td>1802.576381</td>\n",
              "      <td>0.979045</td>\n",
              "      <td>0.861384</td>\n",
              "      <td>NaN</td>\n",
              "      <td>NaN</td>\n",
              "      <td>NaN</td>\n",
              "      <td>NaN</td>\n",
              "      <td>149.000000</td>\n",
              "      <td>148.000000</td>\n",
              "    </tr>\n",
              "  </tbody>\n",
              "</table>\n",
              "</div>"
            ],
            "text/plain": [
              "       season      neutral     elo1_pre     elo2_pre    elo_prob1  \\\n",
              "count  1311.0  1311.000000  1311.000000  1311.000000  1311.000000   \n",
              "mean   2018.0     0.002288  1513.682754  1510.380481     0.626229   \n",
              "std       0.0     0.047800   103.347627   102.316759     0.169970   \n",
              "min    2018.0     0.000000  1239.700051  1234.893462     0.130274   \n",
              "25%    2018.0     0.000000  1434.647434  1434.352060     0.510840   \n",
              "50%    2018.0     0.000000  1520.010593  1518.426493     0.645209   \n",
              "75%    2018.0     0.000000  1576.995591  1572.551823     0.752784   \n",
              "max    2018.0     1.000000  1792.149932  1792.273162     0.976830   \n",
              "\n",
              "         elo_prob2    elo1_post    elo2_post  carm-elo1_pre  carm-elo2_pre  \\\n",
              "count  1311.000000  1311.000000  1311.000000    1311.000000    1311.000000   \n",
              "mean      0.373771  1512.453519  1511.609716    1514.359148    1510.653706   \n",
              "std       0.169970   104.032593   102.486433     111.614533     110.837548   \n",
              "min       0.023170  1234.893462  1241.054785    1237.320796    1231.264173   \n",
              "25%       0.247216  1433.860534  1434.201674    1425.807329    1429.520428   \n",
              "50%       0.354791  1519.319437  1519.295523    1522.272959    1518.925182   \n",
              "75%       0.489160  1575.915869  1575.338562    1585.334975    1583.664565   \n",
              "max       0.869726  1792.273162  1785.562518    1808.969488    1809.079898   \n",
              "\n",
              "       carm-elo1_post  carm-elo2_post  carm-elo_prob1  carm-elo_prob2  \\\n",
              "count     1311.000000     1311.000000     1311.000000     1311.000000   \n",
              "mean      1513.019929     1511.992926        0.629897        0.370103   \n",
              "std        112.080616      110.871314        0.184456        0.184456   \n",
              "min       1231.264173     1238.607083        0.138616        0.020955   \n",
              "25%       1426.422943     1429.335433        0.494722        0.222455   \n",
              "50%       1521.420664     1518.419997        0.656232        0.343768   \n",
              "75%       1584.255087     1584.698902        0.777545        0.505278   \n",
              "max       1809.079898     1802.576381        0.979045        0.861384   \n",
              "\n",
              "       carmelo1_pre  carmelo2_pre  carmelo_prob1  carmelo_prob2       score1  \\\n",
              "count           0.0           0.0            0.0            0.0  1311.000000   \n",
              "mean            NaN           NaN            NaN            NaN   107.402746   \n",
              "std             NaN           NaN            NaN            NaN    11.785142   \n",
              "min             NaN           NaN            NaN            NaN    69.000000   \n",
              "25%             NaN           NaN            NaN            NaN    99.000000   \n",
              "50%             NaN           NaN            NaN            NaN   107.000000   \n",
              "75%             NaN           NaN            NaN            NaN   115.000000   \n",
              "max             NaN           NaN            NaN            NaN   149.000000   \n",
              "\n",
              "            score2  \n",
              "count  1311.000000  \n",
              "mean    105.036613  \n",
              "std      12.181585  \n",
              "min      69.000000  \n",
              "25%      97.000000  \n",
              "50%     105.000000  \n",
              "75%     113.000000  \n",
              "max     148.000000  "
            ]
          },
          "metadata": {
            "tags": []
          },
          "execution_count": 29
        }
      ]
    },
    {
      "metadata": {
        "id": "esogyB956Omw",
        "colab_type": "code",
        "colab": {
          "base_uri": "https://localhost:8080/",
          "height": 269
        },
        "outputId": "b5d18efb-9430-4bb5-b0ef-9e0421084c92"
      },
      "cell_type": "code",
      "source": [
        "plt.plot('date', 'elo1_pre', data=nba_2018, markerfacecolor='blue')\n",
        "plt.show()"
      ],
      "execution_count": 30,
      "outputs": [
        {
          "output_type": "display_data",
          "data": {
            "image/png": "[encoded data removed]",
            "text/plain": [
              "<matplotlib.figure.Figure at 0x7fa171374470>"
            ]
          },
          "metadata": {
            "tags": []
          }
        }
      ]
    },
    {
      "metadata": {
        "id": "aWbYdgTZs5Yc",
        "colab_type": "code",
        "colab": {}
      },
      "cell_type": "code",
      "source": [
        "#help(sns.lmplot)"
      ],
      "execution_count": 0,
      "outputs": []
    },
    {
      "metadata": {
        "id": "Qn_4o8F8UZpJ",
        "colab_type": "code",
        "colab": {
          "base_uri": "https://localhost:8080/",
          "height": 1073
        },
        "outputId": "b6cb6180-4f12-42a5-9544-01f595f56df8"
      },
      "cell_type": "code",
      "source": [
        "# make a scatterplot\n",
        "sns.lmplot(x='score1', y='elo1_post', data=nba_2018, line_kws={'color': 'red'});\n",
        "sns.lmplot(x='elo1_pre', y='elo2_post',  data=nba_2018,\n",
        "           line_kws={'color': 'red'}, scatter_kws={'color':'blueviolet'});\n",
        "sns.lmplot(x='score2', y='elo1_post', data=nba_2018, line_kws={'color': 'red'});\n"
      ],
      "execution_count": 38,
      "outputs": [
        {
          "output_type": "display_data",
          "data": {
            "image/png": "[encoded data removed]",
            "text/plain": [
              "<matplotlib.figure.Figure at 0x7fa16d19f1d0>"
            ]
          },
          "metadata": {
            "tags": []
          }
        },
        {
          "output_type": "display_data",
          "data": {
            "image/png": "[encoded data removed]",
            "text/plain": [
              "<matplotlib.figure.Figure at 0x7fa171320e10>"
            ]
          },
          "metadata": {
            "tags": []
          }
        },
        {
          "output_type": "display_data",
          "data": {
            "image/png": "[encoded data removed]",
            "text/plain": [
              "<matplotlib.figure.Figure at 0x7fa16d0171d0>"
            ]
          },
          "metadata": {
            "tags": []
          }
        }
      ]
    },
    {
      "metadata": {
        "id": "xfjZCh24sGQM",
        "colab_type": "code",
        "colab": {}
      },
      "cell_type": "code",
      "source": [
        "help(sns.lmplot)"
      ],
      "execution_count": 0,
      "outputs": []
    },
    {
      "metadata": {
        "id": "WJH5k0kT-Q2t",
        "colab_type": "code",
        "colab": {}
      },
      "cell_type": "code",
      "source": [
        "nba_2018.plot.hist(x='score1');"
      ],
      "execution_count": 0,
      "outputs": []
    },
    {
      "metadata": {
        "id": "TQ3fU78jqN8U",
        "colab_type": "code",
        "outputId": "5a008cfc-3005-48d6-86e2-f83c9b49f247",
        "colab": {
          "base_uri": "https://localhost:8080/",
          "height": 442
        }
      },
      "cell_type": "code",
      "source": [
        "nba_data.dtypes"
      ],
      "execution_count": 22,
      "outputs": [
        {
          "output_type": "execute_result",
          "data": {
            "text/plain": [
              "date              datetime64[ns]\n",
              "season                     int64\n",
              "neutral                    int64\n",
              "playoff                   object\n",
              "team1                     object\n",
              "team2                     object\n",
              "elo1_pre                 float64\n",
              "elo2_pre                 float64\n",
              "elo_prob1                float64\n",
              "elo_prob2                float64\n",
              "elo1_post                float64\n",
              "elo2_post                float64\n",
              "carm-elo1_pre            float64\n",
              "carm-elo2_pre            float64\n",
              "carm-elo1_post           float64\n",
              "carm-elo2_post           float64\n",
              "carm-elo_prob1           float64\n",
              "carm-elo_prob2           float64\n",
              "carmelo1_pre             float64\n",
              "carmelo2_pre             float64\n",
              "carmelo_prob1            float64\n",
              "carmelo_prob2            float64\n",
              "score1                   float64\n",
              "score2                   float64\n",
              "dtype: object"
            ]
          },
          "metadata": {
            "tags": []
          },
          "execution_count": 22
        }
      ]
    },
    {
      "metadata": {
        "id": "ySD2S4iS2vV5",
        "colab_type": "code",
        "colab": {
          "base_uri": "https://localhost:8080/",
          "height": 355
        },
        "outputId": "c3d288aa-8b61-48c3-d8fe-6b0ee7f43b48"
      },
      "cell_type": "code",
      "source": [
        "nba_2018.head()"
      ],
      "execution_count": 42,
      "outputs": [
        {
          "output_type": "execute_result",
          "data": {
            "text/html": [
              "<div>\n",
              "<style scoped>\n",
              "    .dataframe tbody tr th:only-of-type {\n",
              "        vertical-align: middle;\n",
              "    }\n",
              "\n",
              "    .dataframe tbody tr th {\n",
              "        vertical-align: top;\n",
              "    }\n",
              "\n",
              "    .dataframe thead th {\n",
              "        text-align: right;\n",
              "    }\n",
              "</style>\n",
              "<table border=\"1\" class=\"dataframe\">\n",
              "  <thead>\n",
              "    <tr style=\"text-align: right;\">\n",
              "      <th></th>\n",
              "      <th>date</th>\n",
              "      <th>season</th>\n",
              "      <th>neutral</th>\n",
              "      <th>playoff</th>\n",
              "      <th>team1</th>\n",
              "      <th>team2</th>\n",
              "      <th>elo1_pre</th>\n",
              "      <th>elo2_pre</th>\n",
              "      <th>elo_prob1</th>\n",
              "      <th>elo_prob2</th>\n",
              "      <th>...</th>\n",
              "      <th>carm-elo1_post</th>\n",
              "      <th>carm-elo2_post</th>\n",
              "      <th>carm-elo_prob1</th>\n",
              "      <th>carm-elo_prob2</th>\n",
              "      <th>carmelo1_pre</th>\n",
              "      <th>carmelo2_pre</th>\n",
              "      <th>carmelo_prob1</th>\n",
              "      <th>carmelo_prob2</th>\n",
              "      <th>score1</th>\n",
              "      <th>score2</th>\n",
              "    </tr>\n",
              "  </thead>\n",
              "  <tbody>\n",
              "    <tr>\n",
              "      <th>65783</th>\n",
              "      <td>2017-10-17</td>\n",
              "      <td>2018</td>\n",
              "      <td>0</td>\n",
              "      <td>NaN</td>\n",
              "      <td>GSW</td>\n",
              "      <td>HOU</td>\n",
              "      <td>1760.609663</td>\n",
              "      <td>1574.467471</td>\n",
              "      <td>0.838508</td>\n",
              "      <td>0.161492</td>\n",
              "      <td>...</td>\n",
              "      <td>1753.884111</td>\n",
              "      <td>1682.115889</td>\n",
              "      <td>0.747495</td>\n",
              "      <td>0.252505</td>\n",
              "      <td>NaN</td>\n",
              "      <td>NaN</td>\n",
              "      <td>NaN</td>\n",
              "      <td>NaN</td>\n",
              "      <td>121.0</td>\n",
              "      <td>122.0</td>\n",
              "    </tr>\n",
              "    <tr>\n",
              "      <th>65784</th>\n",
              "      <td>2017-10-18</td>\n",
              "      <td>2018</td>\n",
              "      <td>0</td>\n",
              "      <td>NaN</td>\n",
              "      <td>DET</td>\n",
              "      <td>CHO</td>\n",
              "      <td>1456.654984</td>\n",
              "      <td>1473.216401</td>\n",
              "      <td>0.617821</td>\n",
              "      <td>0.382179</td>\n",
              "      <td>...</td>\n",
              "      <td>1439.104231</td>\n",
              "      <td>1529.895769</td>\n",
              "      <td>0.476536</td>\n",
              "      <td>0.523464</td>\n",
              "      <td>NaN</td>\n",
              "      <td>NaN</td>\n",
              "      <td>NaN</td>\n",
              "      <td>NaN</td>\n",
              "      <td>102.0</td>\n",
              "      <td>90.0</td>\n",
              "    </tr>\n",
              "    <tr>\n",
              "      <th>65785</th>\n",
              "      <td>2017-10-18</td>\n",
              "      <td>2018</td>\n",
              "      <td>0</td>\n",
              "      <td>NaN</td>\n",
              "      <td>WAS</td>\n",
              "      <td>PHI</td>\n",
              "      <td>1565.684248</td>\n",
              "      <td>1379.575952</td>\n",
              "      <td>0.838481</td>\n",
              "      <td>0.161519</td>\n",
              "      <td>...</td>\n",
              "      <td>1552.479069</td>\n",
              "      <td>1474.520931</td>\n",
              "      <td>0.718121</td>\n",
              "      <td>0.281879</td>\n",
              "      <td>NaN</td>\n",
              "      <td>NaN</td>\n",
              "      <td>NaN</td>\n",
              "      <td>NaN</td>\n",
              "      <td>120.0</td>\n",
              "      <td>115.0</td>\n",
              "    </tr>\n",
              "    <tr>\n",
              "      <th>65786</th>\n",
              "      <td>2017-10-18</td>\n",
              "      <td>2018</td>\n",
              "      <td>0</td>\n",
              "      <td>NaN</td>\n",
              "      <td>ORL</td>\n",
              "      <td>MIA</td>\n",
              "      <td>1390.229357</td>\n",
              "      <td>1552.809706</td>\n",
              "      <td>0.410901</td>\n",
              "      <td>0.589099</td>\n",
              "      <td>...</td>\n",
              "      <td>1464.397752</td>\n",
              "      <td>1476.602248</td>\n",
              "      <td>0.598634</td>\n",
              "      <td>0.401366</td>\n",
              "      <td>NaN</td>\n",
              "      <td>NaN</td>\n",
              "      <td>NaN</td>\n",
              "      <td>NaN</td>\n",
              "      <td>116.0</td>\n",
              "      <td>109.0</td>\n",
              "    </tr>\n",
              "    <tr>\n",
              "      <th>65787</th>\n",
              "      <td>2017-10-18</td>\n",
              "      <td>2018</td>\n",
              "      <td>0</td>\n",
              "      <td>NaN</td>\n",
              "      <td>IND</td>\n",
              "      <td>BRK</td>\n",
              "      <td>1502.884837</td>\n",
              "      <td>1405.034022</td>\n",
              "      <td>0.757481</td>\n",
              "      <td>0.242519</td>\n",
              "      <td>...</td>\n",
              "      <td>1411.729285</td>\n",
              "      <td>1375.270715</td>\n",
              "      <td>0.671978</td>\n",
              "      <td>0.328022</td>\n",
              "      <td>NaN</td>\n",
              "      <td>NaN</td>\n",
              "      <td>NaN</td>\n",
              "      <td>NaN</td>\n",
              "      <td>140.0</td>\n",
              "      <td>131.0</td>\n",
              "    </tr>\n",
              "  </tbody>\n",
              "</table>\n",
              "<p>5 rows × 24 columns</p>\n",
              "</div>"
            ],
            "text/plain": [
              "            date  season  neutral playoff team1 team2     elo1_pre  \\\n",
              "65783 2017-10-17    2018        0     NaN   GSW   HOU  1760.609663   \n",
              "65784 2017-10-18    2018        0     NaN   DET   CHO  1456.654984   \n",
              "65785 2017-10-18    2018        0     NaN   WAS   PHI  1565.684248   \n",
              "65786 2017-10-18    2018        0     NaN   ORL   MIA  1390.229357   \n",
              "65787 2017-10-18    2018        0     NaN   IND   BRK  1502.884837   \n",
              "\n",
              "          elo2_pre  elo_prob1  elo_prob2   ...    carm-elo1_post  \\\n",
              "65783  1574.467471   0.838508   0.161492   ...       1753.884111   \n",
              "65784  1473.216401   0.617821   0.382179   ...       1439.104231   \n",
              "65785  1379.575952   0.838481   0.161519   ...       1552.479069   \n",
              "65786  1552.809706   0.410901   0.589099   ...       1464.397752   \n",
              "65787  1405.034022   0.757481   0.242519   ...       1411.729285   \n",
              "\n",
              "       carm-elo2_post  carm-elo_prob1  carm-elo_prob2  carmelo1_pre  \\\n",
              "65783     1682.115889        0.747495        0.252505           NaN   \n",
              "65784     1529.895769        0.476536        0.523464           NaN   \n",
              "65785     1474.520931        0.718121        0.281879           NaN   \n",
              "65786     1476.602248        0.598634        0.401366           NaN   \n",
              "65787     1375.270715        0.671978        0.328022           NaN   \n",
              "\n",
              "       carmelo2_pre  carmelo_prob1  carmelo_prob2  score1  score2  \n",
              "65783           NaN            NaN            NaN   121.0   122.0  \n",
              "65784           NaN            NaN            NaN   102.0    90.0  \n",
              "65785           NaN            NaN            NaN   120.0   115.0  \n",
              "65786           NaN            NaN            NaN   116.0   109.0  \n",
              "65787           NaN            NaN            NaN   140.0   131.0  \n",
              "\n",
              "[5 rows x 24 columns]"
            ]
          },
          "metadata": {
            "tags": []
          },
          "execution_count": 42
        }
      ]
    },
    {
      "metadata": {
        "id": "2K1pdq6CFfAY",
        "colab_type": "text"
      },
      "cell_type": "markdown",
      "source": [
        "####3. Explore Parse/Clean Data\n",
        "  * Determine what data is necessary and which is auxiliary\n",
        "  * Clean data - deal with empty cells/NaN\n",
        "    * need isna().sum() to analyze where NaNs are located\n",
        "   "
      ]
    },
    {
      "metadata": {
        "id": "U5G9cvx-FiUB",
        "colab_type": "code",
        "colab": {}
      },
      "cell_type": "code",
      "source": [
        "nba_data.isna().sum()"
      ],
      "execution_count": 0,
      "outputs": []
    },
    {
      "metadata": {
        "id": "J-nP2sCryijh",
        "colab_type": "code",
        "colab": {}
      },
      "cell_type": "code",
      "source": [
        "# Create a function to add highest elo win yes(1) or no(0)\n",
        "def f(row):\n",
        "    if (row['score1'] > row['score2']) & (row['elo1_pre'] > row['elo2_pre']):\n",
        "        val = 1\n",
        "    elif (row['score2'] > row['score1']) & (row['elo2_pre'] > row['elo1_pre']):\n",
        "        val = 1\n",
        "    else:\n",
        "        val = 0\n",
        "    return val"
      ],
      "execution_count": 0,
      "outputs": []
    },
    {
      "metadata": {
        "id": "Mn0Z9ort4ige",
        "colab_type": "code",
        "colab": {}
      },
      "cell_type": "code",
      "source": [
        "# Create a function to check if home team won\n",
        "def h(row):\n",
        "    if (row['score1'] > row['score2']):\n",
        "        val = 1\n",
        "    else:\n",
        "        val = 0\n",
        "    return val"
      ],
      "execution_count": 0,
      "outputs": []
    },
    {
      "metadata": {
        "id": "Tp_HiQae4-7b",
        "colab_type": "code",
        "colab": {}
      },
      "cell_type": "code",
      "source": [
        "# Create a function to check if home and higher elo team won\n",
        "def j(row):\n",
        "    if (row['score1'] > row['score2']) & (row['elo1_pre'] > row['elo2_pre']):\n",
        "        val = 1\n",
        "    else:\n",
        "        val = 0\n",
        "    return val"
      ],
      "execution_count": 0,
      "outputs": []
    },
    {
      "metadata": {
        "id": "89WezB_eoPbK",
        "colab_type": "code",
        "colab": {}
      },
      "cell_type": "code",
      "source": [
        ""
      ],
      "execution_count": 0,
      "outputs": []
    },
    {
      "metadata": {
        "id": "Zihz2vvt3Y7E",
        "colab_type": "code",
        "colab": {}
      },
      "cell_type": "code",
      "source": [
        "nba_data['elo_win'] = nba_data.apply(f, axis=1)"
      ],
      "execution_count": 0,
      "outputs": []
    },
    {
      "metadata": {
        "id": "IkGWx8bg-DLb",
        "colab_type": "code",
        "colab": {}
      },
      "cell_type": "code",
      "source": [
        "nba_data['home_win'] = nba_data.apply(h, axis=1)"
      ],
      "execution_count": 0,
      "outputs": []
    },
    {
      "metadata": {
        "id": "ft_RfXM_-Ll1",
        "colab_type": "code",
        "colab": {}
      },
      "cell_type": "code",
      "source": [
        "nba_data['home_elo'] = nba_data.apply(j, axis=1)"
      ],
      "execution_count": 0,
      "outputs": []
    },
    {
      "metadata": {
        "id": "9-XItG0k3N8z",
        "colab_type": "code",
        "colab": {
          "base_uri": "https://localhost:8080/",
          "height": 170
        },
        "outputId": "25f825a2-77ae-4c4a-f568-81981402d295"
      },
      "cell_type": "code",
      "source": [
        "print(nba_data.elo_win.value_counts())\n",
        "print(nba_data.home_win.value_counts())\n",
        "print(nba_data.home_elo.value_counts())\n"
      ],
      "execution_count": 54,
      "outputs": [
        {
          "output_type": "stream",
          "text": [
            "1    43409\n",
            "0    24915\n",
            "Name: elo_win, dtype: int64\n",
            "1    41881\n",
            "0    26443\n",
            "Name: home_win, dtype: int64\n",
            "0    42559\n",
            "1    25765\n",
            "Name: home_elo, dtype: int64\n"
          ],
          "name": "stdout"
        }
      ]
    },
    {
      "metadata": {
        "id": "9NRVBAi8yvpM",
        "colab_type": "code",
        "colab": {
          "base_uri": "https://localhost:8080/",
          "height": 355
        },
        "outputId": "eba560e0-758f-49aa-a8c0-783b907c78d6"
      },
      "cell_type": "code",
      "source": [
        "nba_data.head()"
      ],
      "execution_count": 45,
      "outputs": [
        {
          "output_type": "execute_result",
          "data": {
            "text/html": [
              "<div>\n",
              "<style scoped>\n",
              "    .dataframe tbody tr th:only-of-type {\n",
              "        vertical-align: middle;\n",
              "    }\n",
              "\n",
              "    .dataframe tbody tr th {\n",
              "        vertical-align: top;\n",
              "    }\n",
              "\n",
              "    .dataframe thead th {\n",
              "        text-align: right;\n",
              "    }\n",
              "</style>\n",
              "<table border=\"1\" class=\"dataframe\">\n",
              "  <thead>\n",
              "    <tr style=\"text-align: right;\">\n",
              "      <th></th>\n",
              "      <th>date</th>\n",
              "      <th>season</th>\n",
              "      <th>neutral</th>\n",
              "      <th>playoff</th>\n",
              "      <th>team1</th>\n",
              "      <th>team2</th>\n",
              "      <th>elo1_pre</th>\n",
              "      <th>elo2_pre</th>\n",
              "      <th>elo_prob1</th>\n",
              "      <th>elo_prob2</th>\n",
              "      <th>...</th>\n",
              "      <th>carm-elo1_post</th>\n",
              "      <th>carm-elo2_post</th>\n",
              "      <th>carm-elo_prob1</th>\n",
              "      <th>carm-elo_prob2</th>\n",
              "      <th>carmelo1_pre</th>\n",
              "      <th>carmelo2_pre</th>\n",
              "      <th>carmelo_prob1</th>\n",
              "      <th>carmelo_prob2</th>\n",
              "      <th>score1</th>\n",
              "      <th>score2</th>\n",
              "    </tr>\n",
              "  </thead>\n",
              "  <tbody>\n",
              "    <tr>\n",
              "      <th>0</th>\n",
              "      <td>1946-11-01</td>\n",
              "      <td>1947</td>\n",
              "      <td>0</td>\n",
              "      <td>NaN</td>\n",
              "      <td>TRH</td>\n",
              "      <td>NYK</td>\n",
              "      <td>1300.0</td>\n",
              "      <td>1300.0000</td>\n",
              "      <td>0.640065</td>\n",
              "      <td>0.359935</td>\n",
              "      <td>...</td>\n",
              "      <td>NaN</td>\n",
              "      <td>NaN</td>\n",
              "      <td>NaN</td>\n",
              "      <td>NaN</td>\n",
              "      <td>NaN</td>\n",
              "      <td>NaN</td>\n",
              "      <td>NaN</td>\n",
              "      <td>NaN</td>\n",
              "      <td>66.0</td>\n",
              "      <td>68.0</td>\n",
              "    </tr>\n",
              "    <tr>\n",
              "      <th>1</th>\n",
              "      <td>1946-11-02</td>\n",
              "      <td>1947</td>\n",
              "      <td>0</td>\n",
              "      <td>NaN</td>\n",
              "      <td>CHS</td>\n",
              "      <td>NYK</td>\n",
              "      <td>1300.0</td>\n",
              "      <td>1306.7233</td>\n",
              "      <td>0.631101</td>\n",
              "      <td>0.368899</td>\n",
              "      <td>...</td>\n",
              "      <td>NaN</td>\n",
              "      <td>NaN</td>\n",
              "      <td>NaN</td>\n",
              "      <td>NaN</td>\n",
              "      <td>NaN</td>\n",
              "      <td>NaN</td>\n",
              "      <td>NaN</td>\n",
              "      <td>NaN</td>\n",
              "      <td>63.0</td>\n",
              "      <td>47.0</td>\n",
              "    </tr>\n",
              "    <tr>\n",
              "      <th>2</th>\n",
              "      <td>1946-11-02</td>\n",
              "      <td>1947</td>\n",
              "      <td>0</td>\n",
              "      <td>NaN</td>\n",
              "      <td>PRO</td>\n",
              "      <td>BOS</td>\n",
              "      <td>1300.0</td>\n",
              "      <td>1300.0000</td>\n",
              "      <td>0.640065</td>\n",
              "      <td>0.359935</td>\n",
              "      <td>...</td>\n",
              "      <td>NaN</td>\n",
              "      <td>NaN</td>\n",
              "      <td>NaN</td>\n",
              "      <td>NaN</td>\n",
              "      <td>NaN</td>\n",
              "      <td>NaN</td>\n",
              "      <td>NaN</td>\n",
              "      <td>NaN</td>\n",
              "      <td>59.0</td>\n",
              "      <td>53.0</td>\n",
              "    </tr>\n",
              "    <tr>\n",
              "      <th>3</th>\n",
              "      <td>1946-11-02</td>\n",
              "      <td>1947</td>\n",
              "      <td>0</td>\n",
              "      <td>NaN</td>\n",
              "      <td>STB</td>\n",
              "      <td>PIT</td>\n",
              "      <td>1300.0</td>\n",
              "      <td>1300.0000</td>\n",
              "      <td>0.640065</td>\n",
              "      <td>0.359935</td>\n",
              "      <td>...</td>\n",
              "      <td>NaN</td>\n",
              "      <td>NaN</td>\n",
              "      <td>NaN</td>\n",
              "      <td>NaN</td>\n",
              "      <td>NaN</td>\n",
              "      <td>NaN</td>\n",
              "      <td>NaN</td>\n",
              "      <td>NaN</td>\n",
              "      <td>56.0</td>\n",
              "      <td>51.0</td>\n",
              "    </tr>\n",
              "    <tr>\n",
              "      <th>4</th>\n",
              "      <td>1946-11-02</td>\n",
              "      <td>1947</td>\n",
              "      <td>0</td>\n",
              "      <td>NaN</td>\n",
              "      <td>DTF</td>\n",
              "      <td>WSC</td>\n",
              "      <td>1300.0</td>\n",
              "      <td>1300.0000</td>\n",
              "      <td>0.640065</td>\n",
              "      <td>0.359935</td>\n",
              "      <td>...</td>\n",
              "      <td>NaN</td>\n",
              "      <td>NaN</td>\n",
              "      <td>NaN</td>\n",
              "      <td>NaN</td>\n",
              "      <td>NaN</td>\n",
              "      <td>NaN</td>\n",
              "      <td>NaN</td>\n",
              "      <td>NaN</td>\n",
              "      <td>33.0</td>\n",
              "      <td>50.0</td>\n",
              "    </tr>\n",
              "  </tbody>\n",
              "</table>\n",
              "<p>5 rows × 24 columns</p>\n",
              "</div>"
            ],
            "text/plain": [
              "        date  season  neutral playoff team1 team2  elo1_pre   elo2_pre  \\\n",
              "0 1946-11-01    1947        0     NaN   TRH   NYK    1300.0  1300.0000   \n",
              "1 1946-11-02    1947        0     NaN   CHS   NYK    1300.0  1306.7233   \n",
              "2 1946-11-02    1947        0     NaN   PRO   BOS    1300.0  1300.0000   \n",
              "3 1946-11-02    1947        0     NaN   STB   PIT    1300.0  1300.0000   \n",
              "4 1946-11-02    1947        0     NaN   DTF   WSC    1300.0  1300.0000   \n",
              "\n",
              "   elo_prob1  elo_prob2   ...    carm-elo1_post  carm-elo2_post  \\\n",
              "0   0.640065   0.359935   ...               NaN             NaN   \n",
              "1   0.631101   0.368899   ...               NaN             NaN   \n",
              "2   0.640065   0.359935   ...               NaN             NaN   \n",
              "3   0.640065   0.359935   ...               NaN             NaN   \n",
              "4   0.640065   0.359935   ...               NaN             NaN   \n",
              "\n",
              "   carm-elo_prob1  carm-elo_prob2  carmelo1_pre  carmelo2_pre  carmelo_prob1  \\\n",
              "0             NaN             NaN           NaN           NaN            NaN   \n",
              "1             NaN             NaN           NaN           NaN            NaN   \n",
              "2             NaN             NaN           NaN           NaN            NaN   \n",
              "3             NaN             NaN           NaN           NaN            NaN   \n",
              "4             NaN             NaN           NaN           NaN            NaN   \n",
              "\n",
              "   carmelo_prob2  score1  score2  \n",
              "0            NaN    66.0    68.0  \n",
              "1            NaN    63.0    47.0  \n",
              "2            NaN    59.0    53.0  \n",
              "3            NaN    56.0    51.0  \n",
              "4            NaN    33.0    50.0  \n",
              "\n",
              "[5 rows x 24 columns]"
            ]
          },
          "metadata": {
            "tags": []
          },
          "execution_count": 45
        }
      ]
    },
    {
      "metadata": {
        "id": "ozFOsFrbyFOC",
        "colab_type": "code",
        "colab": {
          "base_uri": "https://localhost:8080/",
          "height": 1224
        },
        "outputId": "1659983c-9536-4497-a226-de02bcf1ec02"
      },
      "cell_type": "code",
      "source": [
        "print(nba_data[nba_data['season'] == 2018]['elo1_pre'].value_counts())\n",
        "print(nba_data[nba_data['season'] == 2018]['elo_win'].value_counts())\n",
        "print(nba_data[nba_data['season'] == 2018]['home_win'].value_counts())\n",
        "print(nba_data[nba_data['season'] == 2018]['home_elo'].value_counts())"
      ],
      "execution_count": 57,
      "outputs": [
        {
          "output_type": "stream",
          "text": [
            "1406.365916    1\n",
            "1494.630174    1\n",
            "1395.610909    1\n",
            "1358.495443    1\n",
            "1560.584747    1\n",
            "1520.511438    1\n",
            "1517.374202    1\n",
            "1336.518226    1\n",
            "1602.395707    1\n",
            "1583.923506    1\n",
            "1386.305606    1\n",
            "1629.298340    1\n",
            "1367.641352    1\n",
            "1733.184472    1\n",
            "1498.629363    1\n",
            "1561.526440    1\n",
            "1329.657010    1\n",
            "1349.693141    1\n",
            "1403.935966    1\n",
            "1401.745121    1\n",
            "1578.686560    1\n",
            "1506.185440    1\n",
            "1432.694238    1\n",
            "1677.914949    1\n",
            "1720.939663    1\n",
            "1552.369107    1\n",
            "1367.866075    1\n",
            "1546.064438    1\n",
            "1608.741393    1\n",
            "1441.319759    1\n",
            "              ..\n",
            "1567.824389    1\n",
            "1487.651985    1\n",
            "1572.182498    1\n",
            "1633.257508    1\n",
            "1406.385367    1\n",
            "1400.554315    1\n",
            "1432.881640    1\n",
            "1374.593715    1\n",
            "1483.234758    1\n",
            "1350.411846    1\n",
            "1561.754964    1\n",
            "1525.917799    1\n",
            "1456.028414    1\n",
            "1469.781337    1\n",
            "1379.667233    1\n",
            "1527.326823    1\n",
            "1532.348316    1\n",
            "1614.263041    1\n",
            "1450.063725    1\n",
            "1407.469925    1\n",
            "1402.052242    1\n",
            "1524.063170    1\n",
            "1645.601496    1\n",
            "1554.655993    1\n",
            "1577.421411    1\n",
            "1629.756144    1\n",
            "1542.447366    1\n",
            "1588.350766    1\n",
            "1537.260479    1\n",
            "1483.483162    1\n",
            "Name: elo1_pre, Length: 1312, dtype: int64\n",
            "1    822\n",
            "0    490\n",
            "Name: elo_win, dtype: int64\n",
            "1    770\n",
            "0    542\n",
            "Name: home_win, dtype: int64\n",
            "0    839\n",
            "1    473\n",
            "Name: home_elo, dtype: int64\n"
          ],
          "name": "stdout"
        }
      ]
    },
    {
      "metadata": {
        "id": "MB-BbZQZDwCh",
        "colab_type": "code",
        "colab": {}
      },
      "cell_type": "code",
      "source": [
        "nba_data"
      ],
      "execution_count": 0,
      "outputs": []
    },
    {
      "metadata": {
        "id": "okLI3IoTFjMI",
        "colab_type": "text"
      },
      "cell_type": "markdown",
      "source": [
        "####4. Define essential data, Group data\n"
      ]
    },
    {
      "metadata": {
        "id": "eI-faQecFmZq",
        "colab_type": "code",
        "colab": {}
      },
      "cell_type": "code",
      "source": [
        "nba_years = nba_data.groupby"
      ],
      "execution_count": 0,
      "outputs": []
    },
    {
      "metadata": {
        "id": "ZPldXxw1Fm2W",
        "colab_type": "text"
      },
      "cell_type": "markdown",
      "source": [
        "####5. Data Viz"
      ]
    },
    {
      "metadata": {
        "id": "1Ur8dSYdFqOv",
        "colab_type": "code",
        "colab": {}
      },
      "cell_type": "code",
      "source": [
        "#see above\n"
      ],
      "execution_count": 0,
      "outputs": []
    },
    {
      "metadata": {
        "id": "Z8MlQkrGFqpj",
        "colab_type": "text"
      },
      "cell_type": "markdown",
      "source": [
        "####6. Build further models/algorithms"
      ]
    },
    {
      "metadata": {
        "id": "Xgj6_9SaFt1v",
        "colab_type": "code",
        "colab": {}
      },
      "cell_type": "code",
      "source": [
        ""
      ],
      "execution_count": 0,
      "outputs": []
    },
    {
      "metadata": {
        "id": "B_dsj6ShFuS8",
        "colab_type": "text"
      },
      "cell_type": "markdown",
      "source": [
        "####7. Feedback loop / Iterate"
      ]
    },
    {
      "metadata": {
        "id": "KroPquP8Fv03",
        "colab_type": "code",
        "colab": {}
      },
      "cell_type": "code",
      "source": [
        ""
      ],
      "execution_count": 0,
      "outputs": []
    }
  ]
}